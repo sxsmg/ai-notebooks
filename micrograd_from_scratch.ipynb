{
  "nbformat": 4,
  "nbformat_minor": 0,
  "metadata": {
    "colab": {
      "name": "micrograd_from_scratch",
      "provenance": [],
      "authorship_tag": "ABX9TyNSBWvR8c47Z5osXqAncrdL",
      "include_colab_link": true
    },
    "kernelspec": {
      "name": "python3",
      "display_name": "Python 3"
    },
    "language_info": {
      "name": "python"
    }
  },
  "cells": [
    {
      "cell_type": "markdown",
      "metadata": {
        "id": "view-in-github",
        "colab_type": "text"
      },
      "source": [
        "<a href=\"https://colab.research.google.com/github/sxsmg/ai-notebooks/blob/main/micrograd_from_scratch.ipynb\" target=\"_parent\"><img src=\"https://colab.research.google.com/assets/colab-badge.svg\" alt=\"Open In Colab\"/></a>"
      ]
    },
    {
      "cell_type": "code",
      "execution_count": 42,
      "metadata": {
        "colab": {
          "base_uri": "https://localhost:8080/"
        },
        "id": "LmSp16srHFU1",
        "outputId": "b26c73f5-da2c-4e58-b553-67a2acc798f1"
      },
      "outputs": [
        {
          "output_type": "stream",
          "name": "stdout",
          "text": [
            "Looking in indexes: https://pypi.org/simple, https://us-python.pkg.dev/colab-wheels/public/simple/\n",
            "Requirement already satisfied: micrograd in /usr/local/lib/python3.7/dist-packages (0.1.0)\n"
          ]
        }
      ],
      "source": [
        "!pip install micrograd"
      ]
    },
    {
      "cell_type": "code",
      "source": [
        "import math\n",
        "import random\n",
        "import numpy as np\n",
        "import matplotlib.pyplot as plt\n",
        "%matplotlib inline"
      ],
      "metadata": {
        "id": "_I2q4TV2Hp39"
      },
      "execution_count": 43,
      "outputs": []
    },
    {
      "cell_type": "code",
      "source": [
        "def f(x):\n",
        "  return (3*x**2 - 4*x + 5)"
      ],
      "metadata": {
        "id": "o1WYImzCRPFt"
      },
      "execution_count": 44,
      "outputs": []
    },
    {
      "cell_type": "code",
      "source": [
        "f(3.0)"
      ],
      "metadata": {
        "colab": {
          "base_uri": "https://localhost:8080/"
        },
        "id": "s3mqdsW3RnFd",
        "outputId": "febf40ea-f3cf-4269-ab1b-def4f2f5c8e7"
      },
      "execution_count": 45,
      "outputs": [
        {
          "output_type": "execute_result",
          "data": {
            "text/plain": [
              "20.0"
            ]
          },
          "metadata": {},
          "execution_count": 45
        }
      ]
    },
    {
      "cell_type": "code",
      "source": [
        "xs = np.arange(-5, 5, 0.25)\n",
        "ys = f(xs)\n",
        "plt.plot(xs, ys)"
      ],
      "metadata": {
        "colab": {
          "base_uri": "https://localhost:8080/",
          "height": 282
        },
        "id": "JruirxYiRVUV",
        "outputId": "7dd1d939-da17-450c-a74e-1eebe5c8bfeb"
      },
      "execution_count": 46,
      "outputs": [
        {
          "output_type": "execute_result",
          "data": {
            "text/plain": [
              "[<matplotlib.lines.Line2D at 0x7f80456dbb50>]"
            ]
          },
          "metadata": {},
          "execution_count": 46
        },
        {
          "output_type": "display_data",
          "data": {
            "text/plain": [
              "<Figure size 432x288 with 1 Axes>"
            ],
            "image/png": "[encoded data removed]"
          },
          "metadata": {
            "needs_background": "light"
          }
        }
      ]
    },
    {
      "cell_type": "code",
      "source": [
        "h = 0.000001\n",
        "x = 2/3\n",
        "(f(x+h) - f(x))/h"
      ],
      "metadata": {
        "colab": {
          "base_uri": "https://localhost:8080/"
        },
        "id": "DHtrSQd1Rkqo",
        "outputId": "b4d34def-65ba-4739-fe41-6cd8edbcd215"
      },
      "execution_count": 47,
      "outputs": [
        {
          "output_type": "execute_result",
          "data": {
            "text/plain": [
              "2.999378523327323e-06"
            ]
          },
          "metadata": {},
          "execution_count": 47
        }
      ]
    },
    {
      "cell_type": "code",
      "source": [
        "a = 2.0\n",
        "b = -3.0\n",
        "c = 10.0\n",
        "d = a*b + c\n",
        "\n",
        "print(d)"
      ],
      "metadata": {
        "colab": {
          "base_uri": "https://localhost:8080/"
        },
        "id": "hZ1Hc3wbknCJ",
        "outputId": "b1ac6211-b51a-4ac1-e2e3-561f51762ce9"
      },
      "execution_count": 48,
      "outputs": [
        {
          "output_type": "stream",
          "name": "stdout",
          "text": [
            "4.0\n"
          ]
        }
      ]
    },
    {
      "cell_type": "code",
      "source": [
        "h = 0.0001\n",
        "\n",
        "a = 2.0\n",
        "b = -3.0\n",
        "c = 10.0\n",
        "\n",
        "d1 = a*b + c\n",
        "a += h\n",
        "d2 = a*b + c\n",
        "\n",
        "print('d1', d1)\n",
        "print('d2', d2)\n",
        "\n",
        "print('slope', (d2 - d1)/h)"
      ],
      "metadata": {
        "colab": {
          "base_uri": "https://localhost:8080/"
        },
        "id": "AIHJNdnWk-7V",
        "outputId": "376f5bfe-b01d-4b0f-c5ba-b20fe1537e47"
      },
      "execution_count": 49,
      "outputs": [
        {
          "output_type": "stream",
          "name": "stdout",
          "text": [
            "d1 4.0\n",
            "d2 3.999699999999999\n",
            "slope -3.000000000010772\n"
          ]
        }
      ]
    },
    {
      "cell_type": "code",
      "source": [
        "class Value:\n",
        "  \n",
        "  def __init__(self, data, _children=(), _op='', label=''):\n",
        "    self.data = data\n",
        "    self.grad = 0.0\n",
        "    self._backward = lambda: None\n",
        "    self._prev = set(_children)\n",
        "    self._op = _op\n",
        "    self.label = label\n",
        "\n",
        "  def __repr__(self):\n",
        "    return f\"Value(data={self.data})\"\n",
        "  \n",
        "  def __add__(self, other):\n",
        "    other = other if isinstance(other, Value) else Value(other)\n",
        "    out = Value(self.data + other.data, (self, other), '+')\n",
        "    \n",
        "    def _backward():\n",
        "      self.grad += 1.0 * out.grad\n",
        "      other.grad += 1.0 * out.grad\n",
        "    out._backward = _backward\n",
        "    \n",
        "    return out\n",
        "\n",
        "  def __mul__(self, other):\n",
        "    other = other if isinstance(other, Value) else Value(other)\n",
        "    out = Value(self.data * other.data, (self, other), '*')\n",
        "    \n",
        "    def _backward():\n",
        "      self.grad += other.data * out.grad\n",
        "      other.grad += self.data * out.grad\n",
        "    out._backward = _backward\n",
        "      \n",
        "    return out\n",
        "  \n",
        "  def __pow__(self, other):\n",
        "    assert isinstance(other, (int, float)), \"only supporting int/float powers for now\"\n",
        "    out = Value(self.data**other, (self,), f'**{other}')\n",
        "\n",
        "    def _backward():\n",
        "        self.grad += other * (self.data ** (other - 1)) * out.grad\n",
        "    out._backward = _backward\n",
        "\n",
        "    return out\n",
        "  \n",
        "  def __rmul__(self, other): # other * self\n",
        "    return self * other\n",
        "\n",
        "  def __truediv__(self, other): # self / other\n",
        "    return self * other**-1\n",
        "\n",
        "  def __neg__(self): # -self\n",
        "    return self * -1\n",
        "\n",
        "  def __sub__(self, other): # self - other\n",
        "    return self + (-other)\n",
        "\n",
        "  def __radd__(self, other): # other + self\n",
        "    return self + other\n",
        "\n",
        "  def tanh(self):\n",
        "    x = self.data\n",
        "    t = (math.exp(2*x) - 1)/(math.exp(2*x) + 1)\n",
        "    out = Value(t, (self, ), 'tanh')\n",
        "    \n",
        "    def _backward():\n",
        "      self.grad += (1 - t**2) * out.grad\n",
        "    out._backward = _backward\n",
        "    \n",
        "    return out\n",
        "  \n",
        "  def exp(self):\n",
        "    x = self.data\n",
        "    out = Value(math.exp(x), (self, ), 'exp')\n",
        "    \n",
        "    def _backward():\n",
        "      self.grad += out.data * out.grad # NOTE: in the video I incorrectly used = instead of +=. Fixed here.\n",
        "    out._backward = _backward\n",
        "    \n",
        "    return out\n",
        "  \n",
        "  \n",
        "  def backward(self):\n",
        "    \n",
        "    topo = []\n",
        "    visited = set()\n",
        "    def build_topo(v):\n",
        "      if v not in visited:\n",
        "        visited.add(v)\n",
        "        for child in v._prev:\n",
        "          build_topo(child)\n",
        "        topo.append(v)\n",
        "    build_topo(self)\n",
        "    \n",
        "    self.grad = 1.0\n",
        "    for node in reversed(topo):\n",
        "      node._backward()"
      ],
      "metadata": {
        "id": "GHIL3FRPlZ0l"
      },
      "execution_count": 50,
      "outputs": []
    },
    {
      "cell_type": "code",
      "source": [
        "a = Value(2.0)\n",
        "b = Value(4.0)\n",
        "a / b\n"
      ],
      "metadata": {
        "colab": {
          "base_uri": "https://localhost:8080/"
        },
        "id": "S25RCnDawtmS",
        "outputId": "619c16eb-e458-4ffa-f7a9-3d81eab17cfc"
      },
      "execution_count": 51,
      "outputs": [
        {
          "output_type": "execute_result",
          "data": {
            "text/plain": [
              "Value(data=0.5)"
            ]
          },
          "metadata": {},
          "execution_count": 51
        }
      ]
    },
    {
      "cell_type": "code",
      "source": [
        "\n",
        "from graphviz import Digraph\n",
        "\n",
        "def trace(root):\n",
        "  # builds a set of all nodes and edges in a graph\n",
        "  nodes, edges = set(), set()\n",
        "  def build(v):\n",
        "    if v not in nodes:\n",
        "      nodes.add(v)\n",
        "      for child in v._prev:\n",
        "        edges.add((child, v))\n",
        "        build(child)\n",
        "  build(root)\n",
        "  return nodes, edges\n",
        "\n",
        "def draw_dot(root):\n",
        "  dot = Digraph(format='svg', graph_attr={'rankdir': 'LR'}) # LR = left to right\n",
        "  \n",
        "  nodes, edges = trace(root)\n",
        "  for n in nodes:\n",
        "    uid = str(id(n))\n",
        "    # for any value in the graph, create a rectangular ('record') node for it\n",
        "    dot.node(name = uid, label = \"{ %s | data %.4f | grad %.4f }\" % (n.label, n.data, n.grad), shape='record')\n",
        "    if n._op:\n",
        "      # if this value is a result of some operation, create an op node for it\n",
        "      dot.node(name = uid + n._op, label = n._op)\n",
        "      # and connect this node to it\n",
        "      dot.edge(uid + n._op, uid)\n",
        "\n",
        "  for n1, n2 in edges:\n",
        "    # connect n1 to the op node of n2\n",
        "    dot.edge(str(id(n1)), str(id(n2)) + n2._op)\n",
        "\n",
        "  return dot\n"
      ],
      "metadata": {
        "id": "fRO_-nOEmxBO"
      },
      "execution_count": 52,
      "outputs": []
    },
    {
      "cell_type": "code",
      "source": [
        "plt.plot(np.arange(-5, 5, 0.2), np.tanh(np.arange(-5, 5, 0.2))); plt.grid();"
      ],
      "metadata": {
        "colab": {
          "base_uri": "https://localhost:8080/",
          "height": 265
        },
        "id": "RCEs_SI1A5FQ",
        "outputId": "0336c1a4-2612-4d2e-b7c0-7a0f5f694fbc"
      },
      "execution_count": 55,
      "outputs": [
        {
          "output_type": "display_data",
          "data": {
            "text/plain": [
              "<Figure size 432x288 with 1 Axes>"
            ],
            "image/png": "[encoded data removed]"
          },
          "metadata": {
            "needs_background": "light"
          }
        }
      ]
    },
    {
      "cell_type": "code",
      "source": [
        "#inputs x1, x2\n",
        "\n",
        "x1 = Value(2.0, label=\"x1\")\n",
        "x2 = Value(0.0, label=\"x2\")\n",
        "\n",
        "#weights w1, w2\n",
        "\n",
        "w1 = Value(-3.0, label ='w1')\n",
        "w2 = Value(1.0, label ='w2')\n",
        "\n",
        "b = Value(6.881375, label='b')\n",
        "\n",
        "x1w1 = x1*w1; x1w1.label = 'x1*w1'\n",
        "x2w2 = x2*w2; x2w2.label = 'x2w2'\n",
        "\n",
        "x1w1x2w2 = x1w1 + x2w2; x1w1x2w2.label = 'x1*w1 + x2w2'\n",
        "\n",
        "n = x1w1x2w2 + b; n.label= 'n'\n",
        "e = (2*n).exp(); \n",
        "o = (e - 1) / (e + 1)\n",
        "o.label='o'\n",
        "o.backward()\n"
      ],
      "metadata": {
        "id": "7VNr_bYYQqr5"
      },
      "execution_count": 56,
      "outputs": []
    },
    {
      "cell_type": "code",
      "source": [
        "\n",
        "draw_dot(o)"
      ],
      "metadata": {
        "colab": {
          "base_uri": "https://localhost:8080/",
          "height": 359
        },
        "id": "maZWuMiHWD2l",
        "outputId": "d5ff1870-fbf3-4014-add0-979de60f5912"
      },
      "execution_count": 57,
      "outputs": [
        {
          "output_type": "execute_result",
          "data": {
            "text/plain": [
              "<graphviz.dot.Digraph at 0x7f8043c0af10>"
            ],
            "image/svg+xml": "<?xml version=\"1.0\" encoding=\"UTF-8\" standalone=\"no\"?>\n<!DOCTYPE svg PUBLIC \"-//W3C//DTD SVG 1.1//EN\"\n \"http://www.w3.org/Graphics/SVG/1.1/DTD/svg11.dtd\">\n<!-- Generated by graphviz version 2.40.1 (20161225.0304)\n -->\n<!-- Title: %3 Pages: 1 -->\n<svg width=\"3050pt\" height=\"239pt\"\n viewBox=\"0.00 0.00 3050.00 239.00\" xmlns=\"http://www.w3.org/2000/svg\" xmlns:xlink=\"http://www.w3.org/1999/xlink\">\n<g id=\"graph0\" class=\"graph\" transform=\"scale(1 1) rotate(0) translate(4 235)\">\n<title>%3</title>\n<polygon fill=\"#ffffff\" stroke=\"transparent\" points=\"-4,4 -4,-235 3046,-235 3046,4 -4,4\"/>\n<!-- 140188869213200 -->\n<g id=\"node1\" class=\"node\">\n<title>140188869213200</title>\n<polygon fill=\"none\" stroke=\"#000000\" points=\"1,-194.5 1,-230.5 210,-230.5 210,-194.5 1,-194.5\"/>\n<text text-anchor=\"middle\" x=\"17\" y=\"-208.8\" font-family=\"Times,serif\" font-size=\"14.00\" fill=\"#000000\">x1</text>\n<polyline fill=\"none\" stroke=\"#000000\" points=\"33,-194.5 33,-230.5 \"/>\n<text text-anchor=\"middle\" x=\"75.5\" y=\"-208.8\" font-family=\"Times,serif\" font-size=\"14.00\" fill=\"#000000\">data 2.0000</text>\n<polyline fill=\"none\" stroke=\"#000000\" points=\"118,-194.5 118,-230.5 \"/>\n<text text-anchor=\"middle\" x=\"164\" y=\"-208.8\" font-family=\"Times,serif\" font-size=\"14.00\" fill=\"#000000\">grad &#45;1.5000</text>\n</g>\n<!-- 140188869214032* -->\n<g id=\"node23\" class=\"node\">\n<title>140188869214032*</title>\n<ellipse fill=\"none\" stroke=\"#000000\" cx=\"274\" cy=\"-157.5\" rx=\"27\" ry=\"18\"/>\n<text text-anchor=\"middle\" x=\"274\" y=\"-153.8\" font-family=\"Times,serif\" font-size=\"14.00\" fill=\"#000000\">*</text>\n</g>\n<!-- 140188869213200&#45;&gt;140188869214032* -->\n<g id=\"edge12\" class=\"edge\">\n<title>140188869213200&#45;&gt;140188869214032*</title>\n<path fill=\"none\" stroke=\"#000000\" d=\"M182.3017,-194.4558C192.0361,-191.698 201.8026,-188.6955 211,-185.5 221.6243,-181.8088 232.9373,-177.0548 243.0021,-172.5155\"/>\n<polygon fill=\"#000000\" stroke=\"#000000\" points=\"244.5909,-175.6371 252.2061,-168.271 241.6594,-169.2805 244.5909,-175.6371\"/>\n</g>\n<!-- 140188869212240 -->\n<g id=\"node2\" class=\"node\">\n<title>140188869212240</title>\n<polygon fill=\"none\" stroke=\"#000000\" points=\"1746.5,-55.5 1746.5,-91.5 1938.5,-91.5 1938.5,-55.5 1746.5,-55.5\"/>\n<text text-anchor=\"middle\" x=\"1756.5\" y=\"-69.8\" font-family=\"Times,serif\" font-size=\"14.00\" fill=\"#000000\"> </text>\n<polyline fill=\"none\" stroke=\"#000000\" points=\"1766.5,-55.5 1766.5,-91.5 \"/>\n<text text-anchor=\"middle\" x=\"1809\" y=\"-69.8\" font-family=\"Times,serif\" font-size=\"14.00\" fill=\"#000000\">data 5.8284</text>\n<polyline fill=\"none\" stroke=\"#000000\" points=\"1851.5,-55.5 1851.5,-91.5 \"/>\n<text text-anchor=\"middle\" x=\"1895\" y=\"-69.8\" font-family=\"Times,serif\" font-size=\"14.00\" fill=\"#000000\">grad 0.0429</text>\n</g>\n<!-- 140188869211088+ -->\n<g id=\"node11\" class=\"node\">\n<title>140188869211088+</title>\n<ellipse fill=\"none\" stroke=\"#000000\" cx=\"2004\" cy=\"-100.5\" rx=\"27\" ry=\"18\"/>\n<text text-anchor=\"middle\" x=\"2004\" y=\"-96.8\" font-family=\"Times,serif\" font-size=\"14.00\" fill=\"#000000\">+</text>\n</g>\n<!-- 140188869212240&#45;&gt;140188869211088+ -->\n<g id=\"edge18\" class=\"edge\">\n<title>140188869212240&#45;&gt;140188869211088+</title>\n<path fill=\"none\" stroke=\"#000000\" d=\"M1938.7773,-89.5959C1948.8624,-91.2819 1958.6117,-92.9119 1967.3636,-94.375\"/>\n<polygon fill=\"#000000\" stroke=\"#000000\" points=\"1967.0594,-97.8727 1977.4997,-96.0696 1968.2137,-90.9685 1967.0594,-97.8727\"/>\n</g>\n<!-- 140188869584592+ -->\n<g id=\"node15\" class=\"node\">\n<title>140188869584592+</title>\n<ellipse fill=\"none\" stroke=\"#000000\" cx=\"2004\" cy=\"-45.5\" rx=\"27\" ry=\"18\"/>\n<text text-anchor=\"middle\" x=\"2004\" y=\"-41.8\" font-family=\"Times,serif\" font-size=\"14.00\" fill=\"#000000\">+</text>\n</g>\n<!-- 140188869212240&#45;&gt;140188869584592+ -->\n<g id=\"edge19\" class=\"edge\">\n<title>140188869212240&#45;&gt;140188869584592+</title>\n<path fill=\"none\" stroke=\"#000000\" d=\"M1938.7773,-56.808C1949.0703,-55.0234 1959.0136,-53.2995 1967.9036,-51.7582\"/>\n<polygon fill=\"#000000\" stroke=\"#000000\" points=\"1968.5587,-55.1969 1977.8137,-50.04 1967.3628,-48.2998 1968.5587,-55.1969\"/>\n</g>\n<!-- 140188869212240exp -->\n<g id=\"node3\" class=\"node\">\n<title>140188869212240exp</title>\n<ellipse fill=\"none\" stroke=\"#000000\" cx=\"1681\" cy=\"-73.5\" rx=\"27\" ry=\"18\"/>\n<text text-anchor=\"middle\" x=\"1681\" y=\"-69.8\" font-family=\"Times,serif\" font-size=\"14.00\" fill=\"#000000\">exp</text>\n</g>\n<!-- 140188869212240exp&#45;&gt;140188869212240 -->\n<g id=\"edge1\" class=\"edge\">\n<title>140188869212240exp&#45;&gt;140188869212240</title>\n<path fill=\"none\" stroke=\"#000000\" d=\"M1708.0315,-73.5C1716.3333,-73.5 1726.0215,-73.5 1736.3247,-73.5\"/>\n<polygon fill=\"#000000\" stroke=\"#000000\" points=\"1736.3664,-77.0001 1746.3663,-73.5 1736.3663,-70.0001 1736.3664,-77.0001\"/>\n</g>\n<!-- 140188869213776 -->\n<g id=\"node4\" class=\"node\">\n<title>140188869213776</title>\n<polygon fill=\"none\" stroke=\"#000000\" points=\"0,-139.5 0,-175.5 211,-175.5 211,-139.5 0,-139.5\"/>\n<text text-anchor=\"middle\" x=\"17.5\" y=\"-153.8\" font-family=\"Times,serif\" font-size=\"14.00\" fill=\"#000000\">w1</text>\n<polyline fill=\"none\" stroke=\"#000000\" points=\"35,-139.5 35,-175.5 \"/>\n<text text-anchor=\"middle\" x=\"79.5\" y=\"-153.8\" font-family=\"Times,serif\" font-size=\"14.00\" fill=\"#000000\">data &#45;3.0000</text>\n<polyline fill=\"none\" stroke=\"#000000\" points=\"124,-139.5 124,-175.5 \"/>\n<text text-anchor=\"middle\" x=\"167.5\" y=\"-153.8\" font-family=\"Times,serif\" font-size=\"14.00\" fill=\"#000000\">grad 1.0000</text>\n</g>\n<!-- 140188869213776&#45;&gt;140188869214032* -->\n<g id=\"edge26\" class=\"edge\">\n<title>140188869213776&#45;&gt;140188869214032*</title>\n<path fill=\"none\" stroke=\"#000000\" d=\"M211.2568,-157.5C220.2576,-157.5 228.9074,-157.5 236.7567,-157.5\"/>\n<polygon fill=\"#000000\" stroke=\"#000000\" points=\"236.9217,-161.0001 246.9217,-157.5 236.9217,-154.0001 236.9217,-161.0001\"/>\n</g>\n<!-- 140188869211280 -->\n<g id=\"node5\" class=\"node\">\n<title>140188869211280</title>\n<polygon fill=\"none\" stroke=\"#000000\" points=\"1744,-.5 1744,-36.5 1941,-36.5 1941,-.5 1744,-.5\"/>\n<text text-anchor=\"middle\" x=\"1754\" y=\"-14.8\" font-family=\"Times,serif\" font-size=\"14.00\" fill=\"#000000\"> </text>\n<polyline fill=\"none\" stroke=\"#000000\" points=\"1764,-.5 1764,-36.5 \"/>\n<text text-anchor=\"middle\" x=\"1806.5\" y=\"-14.8\" font-family=\"Times,serif\" font-size=\"14.00\" fill=\"#000000\">data 1.0000</text>\n<polyline fill=\"none\" stroke=\"#000000\" points=\"1849,-.5 1849,-36.5 \"/>\n<text text-anchor=\"middle\" x=\"1895\" y=\"-14.8\" font-family=\"Times,serif\" font-size=\"14.00\" fill=\"#000000\">grad &#45;0.1036</text>\n</g>\n<!-- 140188869211280&#45;&gt;140188869584592+ -->\n<g id=\"edge11\" class=\"edge\">\n<title>140188869211280&#45;&gt;140188869584592+</title>\n<path fill=\"none\" stroke=\"#000000\" d=\"M1941.0974,-34.9838C1950.4127,-36.5411 1959.3943,-38.0427 1967.5123,-39.3999\"/>\n<polygon fill=\"#000000\" stroke=\"#000000\" points=\"1967.2018,-42.8965 1977.6421,-41.0934 1968.3562,-35.9923 1967.2018,-42.8965\"/>\n</g>\n<!-- 140188869212304 -->\n<g id=\"node6\" class=\"node\">\n<title>140188869212304</title>\n<polygon fill=\"none\" stroke=\"#000000\" points=\"1426,-55.5 1426,-91.5 1618,-91.5 1618,-55.5 1426,-55.5\"/>\n<text text-anchor=\"middle\" x=\"1436\" y=\"-69.8\" font-family=\"Times,serif\" font-size=\"14.00\" fill=\"#000000\"> </text>\n<polyline fill=\"none\" stroke=\"#000000\" points=\"1446,-55.5 1446,-91.5 \"/>\n<text text-anchor=\"middle\" x=\"1488.5\" y=\"-69.8\" font-family=\"Times,serif\" font-size=\"14.00\" fill=\"#000000\">data 1.7628</text>\n<polyline fill=\"none\" stroke=\"#000000\" points=\"1531,-55.5 1531,-91.5 \"/>\n<text text-anchor=\"middle\" x=\"1574.5\" y=\"-69.8\" font-family=\"Times,serif\" font-size=\"14.00\" fill=\"#000000\">grad 0.2500</text>\n</g>\n<!-- 140188869212304&#45;&gt;140188869212240exp -->\n<g id=\"edge27\" class=\"edge\">\n<title>140188869212304&#45;&gt;140188869212240exp</title>\n<path fill=\"none\" stroke=\"#000000\" d=\"M1618.159,-73.5C1627.0615,-73.5 1635.6722,-73.5 1643.517,-73.5\"/>\n<polygon fill=\"#000000\" stroke=\"#000000\" points=\"1643.6952,-77.0001 1653.6952,-73.5 1643.6951,-70.0001 1643.6952,-77.0001\"/>\n</g>\n<!-- 140188869212304* -->\n<g id=\"node7\" class=\"node\">\n<title>140188869212304*</title>\n<ellipse fill=\"none\" stroke=\"#000000\" cx=\"1363\" cy=\"-73.5\" rx=\"27\" ry=\"18\"/>\n<text text-anchor=\"middle\" x=\"1363\" y=\"-69.8\" font-family=\"Times,serif\" font-size=\"14.00\" fill=\"#000000\">*</text>\n</g>\n<!-- 140188869212304*&#45;&gt;140188869212304 -->\n<g id=\"edge2\" class=\"edge\">\n<title>140188869212304*&#45;&gt;140188869212304</title>\n<path fill=\"none\" stroke=\"#000000\" d=\"M1390.3331,-73.5C1397.8317,-73.5 1406.4389,-73.5 1415.5849,-73.5\"/>\n<polygon fill=\"#000000\" stroke=\"#000000\" points=\"1415.6939,-77.0001 1425.6939,-73.5 1415.6939,-70.0001 1415.6939,-77.0001\"/>\n</g>\n<!-- 140188869213328 -->\n<g id=\"node8\" class=\"node\">\n<title>140188869213328</title>\n<polygon fill=\"none\" stroke=\"#000000\" points=\"696,-111.5 696,-147.5 978,-147.5 978,-111.5 696,-111.5\"/>\n<text text-anchor=\"middle\" x=\"749\" y=\"-125.8\" font-family=\"Times,serif\" font-size=\"14.00\" fill=\"#000000\">x1*w1 + x2w2</text>\n<polyline fill=\"none\" stroke=\"#000000\" points=\"802,-111.5 802,-147.5 \"/>\n<text text-anchor=\"middle\" x=\"846.5\" y=\"-125.8\" font-family=\"Times,serif\" font-size=\"14.00\" fill=\"#000000\">data &#45;6.0000</text>\n<polyline fill=\"none\" stroke=\"#000000\" points=\"891,-111.5 891,-147.5 \"/>\n<text text-anchor=\"middle\" x=\"934.5\" y=\"-125.8\" font-family=\"Times,serif\" font-size=\"14.00\" fill=\"#000000\">grad 0.5000</text>\n</g>\n<!-- 140188869212432+ -->\n<g id=\"node20\" class=\"node\">\n<title>140188869212432+</title>\n<ellipse fill=\"none\" stroke=\"#000000\" cx=\"1041\" cy=\"-101.5\" rx=\"27\" ry=\"18\"/>\n<text text-anchor=\"middle\" x=\"1041\" y=\"-97.8\" font-family=\"Times,serif\" font-size=\"14.00\" fill=\"#000000\">+</text>\n</g>\n<!-- 140188869213328&#45;&gt;140188869212432+ -->\n<g id=\"edge25\" class=\"edge\">\n<title>140188869213328&#45;&gt;140188869212432+</title>\n<path fill=\"none\" stroke=\"#000000\" d=\"M968.2153,-111.4901C981.2092,-109.7066 993.5123,-108.0179 1004.179,-106.5539\"/>\n<polygon fill=\"#000000\" stroke=\"#000000\" points=\"1004.8339,-109.9969 1014.2651,-105.1695 1003.882,-103.0619 1004.8339,-109.9969\"/>\n</g>\n<!-- 140188869213328+ -->\n<g id=\"node9\" class=\"node\">\n<title>140188869213328+</title>\n<ellipse fill=\"none\" stroke=\"#000000\" cx=\"633\" cy=\"-129.5\" rx=\"27\" ry=\"18\"/>\n<text text-anchor=\"middle\" x=\"633\" y=\"-125.8\" font-family=\"Times,serif\" font-size=\"14.00\" fill=\"#000000\">+</text>\n</g>\n<!-- 140188869213328+&#45;&gt;140188869213328 -->\n<g id=\"edge3\" class=\"edge\">\n<title>140188869213328+&#45;&gt;140188869213328</title>\n<path fill=\"none\" stroke=\"#000000\" d=\"M660.0896,-129.5C667.5706,-129.5 676.2497,-129.5 685.6679,-129.5\"/>\n<polygon fill=\"#000000\" stroke=\"#000000\" points=\"685.7311,-133.0001 695.7311,-129.5 685.731,-126.0001 685.7311,-133.0001\"/>\n</g>\n<!-- 140188869211088 -->\n<g id=\"node10\" class=\"node\">\n<title>140188869211088</title>\n<polygon fill=\"none\" stroke=\"#000000\" points=\"2300,-82.5 2300,-118.5 2492,-118.5 2492,-82.5 2300,-82.5\"/>\n<text text-anchor=\"middle\" x=\"2310\" y=\"-96.8\" font-family=\"Times,serif\" font-size=\"14.00\" fill=\"#000000\"> </text>\n<polyline fill=\"none\" stroke=\"#000000\" points=\"2320,-82.5 2320,-118.5 \"/>\n<text text-anchor=\"middle\" x=\"2362.5\" y=\"-96.8\" font-family=\"Times,serif\" font-size=\"14.00\" fill=\"#000000\">data 4.8284</text>\n<polyline fill=\"none\" stroke=\"#000000\" points=\"2405,-82.5 2405,-118.5 \"/>\n<text text-anchor=\"middle\" x=\"2448.5\" y=\"-96.8\" font-family=\"Times,serif\" font-size=\"14.00\" fill=\"#000000\">grad 0.1464</text>\n</g>\n<!-- 140188869561808* -->\n<g id=\"node28\" class=\"node\">\n<title>140188869561808*</title>\n<ellipse fill=\"none\" stroke=\"#000000\" cx=\"2783\" cy=\"-72.5\" rx=\"27\" ry=\"18\"/>\n<text text-anchor=\"middle\" x=\"2783\" y=\"-68.8\" font-family=\"Times,serif\" font-size=\"14.00\" fill=\"#000000\">*</text>\n</g>\n<!-- 140188869211088&#45;&gt;140188869561808* -->\n<g id=\"edge17\" class=\"edge\">\n<title>140188869211088&#45;&gt;140188869561808*</title>\n<path fill=\"none\" stroke=\"#000000\" d=\"M2492.0652,-93.8912C2556.543,-89.4036 2643.3827,-83.2597 2720,-77.5 2728.4007,-76.8685 2737.4294,-76.166 2745.9537,-75.4919\"/>\n<polygon fill=\"#000000\" stroke=\"#000000\" points=\"2746.3345,-78.9728 2756.0253,-74.6905 2745.7792,-71.9949 2746.3345,-78.9728\"/>\n</g>\n<!-- 140188869211088+&#45;&gt;140188869211088 -->\n<g id=\"edge4\" class=\"edge\">\n<title>140188869211088+&#45;&gt;140188869211088</title>\n<path fill=\"none\" stroke=\"#000000\" d=\"M2031.2535,-100.5C2083.8629,-100.5 2201.9488,-100.5 2289.5875,-100.5\"/>\n<polygon fill=\"#000000\" stroke=\"#000000\" points=\"2289.8483,-104.0001 2299.8482,-100.5 2289.8482,-97.0001 2289.8483,-104.0001\"/>\n</g>\n<!-- 140188869561552 -->\n<g id=\"node12\" class=\"node\">\n<title>140188869561552</title>\n<polygon fill=\"none\" stroke=\"#000000\" points=\"2528,-31.5 2528,-67.5 2720,-67.5 2720,-31.5 2528,-31.5\"/>\n<text text-anchor=\"middle\" x=\"2538\" y=\"-45.8\" font-family=\"Times,serif\" font-size=\"14.00\" fill=\"#000000\"> </text>\n<polyline fill=\"none\" stroke=\"#000000\" points=\"2548,-31.5 2548,-67.5 \"/>\n<text text-anchor=\"middle\" x=\"2590.5\" y=\"-45.8\" font-family=\"Times,serif\" font-size=\"14.00\" fill=\"#000000\">data 0.1464</text>\n<polyline fill=\"none\" stroke=\"#000000\" points=\"2633,-31.5 2633,-67.5 \"/>\n<text text-anchor=\"middle\" x=\"2676.5\" y=\"-45.8\" font-family=\"Times,serif\" font-size=\"14.00\" fill=\"#000000\">grad 4.8284</text>\n</g>\n<!-- 140188869561552&#45;&gt;140188869561808* -->\n<g id=\"edge24\" class=\"edge\">\n<title>140188869561552&#45;&gt;140188869561808*</title>\n<path fill=\"none\" stroke=\"#000000\" d=\"M2720.159,-63.4098C2729.3446,-64.7385 2738.2195,-66.0223 2746.263,-67.1858\"/>\n<polygon fill=\"#000000\" stroke=\"#000000\" points=\"2745.9161,-70.672 2756.3142,-68.6398 2746.9183,-63.7441 2745.9161,-70.672\"/>\n</g>\n<!-- 140188869561552**&#45;1 -->\n<g id=\"node13\" class=\"node\">\n<title>140188869561552**&#45;1</title>\n<ellipse fill=\"none\" stroke=\"#000000\" cx=\"2396\" cy=\"-45.5\" rx=\"28.6953\" ry=\"18\"/>\n<text text-anchor=\"middle\" x=\"2396\" y=\"-41.8\" font-family=\"Times,serif\" font-size=\"14.00\" fill=\"#000000\">**&#45;1</text>\n</g>\n<!-- 140188869561552**&#45;1&#45;&gt;140188869561552 -->\n<g id=\"edge5\" class=\"edge\">\n<title>140188869561552**&#45;1&#45;&gt;140188869561552</title>\n<path fill=\"none\" stroke=\"#000000\" d=\"M2424.8764,-46.0066C2448.5427,-46.4218 2483.5807,-47.0365 2517.6954,-47.635\"/>\n<polygon fill=\"#000000\" stroke=\"#000000\" points=\"2517.6994,-51.1355 2527.7593,-47.8116 2517.8222,-44.1366 2517.6994,-51.1355\"/>\n</g>\n<!-- 140188869584592 -->\n<g id=\"node14\" class=\"node\">\n<title>140188869584592</title>\n<polygon fill=\"none\" stroke=\"#000000\" points=\"2067,-27.5 2067,-63.5 2264,-63.5 2264,-27.5 2067,-27.5\"/>\n<text text-anchor=\"middle\" x=\"2077\" y=\"-41.8\" font-family=\"Times,serif\" font-size=\"14.00\" fill=\"#000000\"> </text>\n<polyline fill=\"none\" stroke=\"#000000\" points=\"2087,-27.5 2087,-63.5 \"/>\n<text text-anchor=\"middle\" x=\"2129.5\" y=\"-41.8\" font-family=\"Times,serif\" font-size=\"14.00\" fill=\"#000000\">data 6.8284</text>\n<polyline fill=\"none\" stroke=\"#000000\" points=\"2172,-27.5 2172,-63.5 \"/>\n<text text-anchor=\"middle\" x=\"2218\" y=\"-41.8\" font-family=\"Times,serif\" font-size=\"14.00\" fill=\"#000000\">grad &#45;0.1036</text>\n</g>\n<!-- 140188869584592&#45;&gt;140188869561552**&#45;1 -->\n<g id=\"edge14\" class=\"edge\">\n<title>140188869584592&#45;&gt;140188869561552**&#45;1</title>\n<path fill=\"none\" stroke=\"#000000\" d=\"M2264.2558,-45.5C2297.1184,-45.5 2331.8079,-45.5 2357.3374,-45.5\"/>\n<polygon fill=\"#000000\" stroke=\"#000000\" points=\"2357.3393,-49.0001 2367.3393,-45.5 2357.3392,-42.0001 2357.3393,-49.0001\"/>\n</g>\n<!-- 140188869584592+&#45;&gt;140188869584592 -->\n<g id=\"edge6\" class=\"edge\">\n<title>140188869584592+&#45;&gt;140188869584592</title>\n<path fill=\"none\" stroke=\"#000000\" d=\"M2031.0315,-45.5C2038.6149,-45.5 2047.3553,-45.5 2056.6644,-45.5\"/>\n<polygon fill=\"#000000\" stroke=\"#000000\" points=\"2056.9613,-49.0001 2066.9613,-45.5 2056.9613,-42.0001 2056.9613,-49.0001\"/>\n</g>\n<!-- 140188869213392 -->\n<g id=\"node16\" class=\"node\">\n<title>140188869213392</title>\n<polygon fill=\"none\" stroke=\"#000000\" points=\"342.5,-84.5 342.5,-120.5 564.5,-120.5 564.5,-84.5 342.5,-84.5\"/>\n<text text-anchor=\"middle\" x=\"367.5\" y=\"-98.8\" font-family=\"Times,serif\" font-size=\"14.00\" fill=\"#000000\">x2w2</text>\n<polyline fill=\"none\" stroke=\"#000000\" points=\"392.5,-84.5 392.5,-120.5 \"/>\n<text text-anchor=\"middle\" x=\"435\" y=\"-98.8\" font-family=\"Times,serif\" font-size=\"14.00\" fill=\"#000000\">data 0.0000</text>\n<polyline fill=\"none\" stroke=\"#000000\" points=\"477.5,-84.5 477.5,-120.5 \"/>\n<text text-anchor=\"middle\" x=\"521\" y=\"-98.8\" font-family=\"Times,serif\" font-size=\"14.00\" fill=\"#000000\">grad 0.5000</text>\n</g>\n<!-- 140188869213392&#45;&gt;140188869213328+ -->\n<g id=\"edge28\" class=\"edge\">\n<title>140188869213392&#45;&gt;140188869213328+</title>\n<path fill=\"none\" stroke=\"#000000\" d=\"M564.6267,-119.2154C576.0035,-120.9267 586.8937,-122.5648 596.5068,-124.0108\"/>\n<polygon fill=\"#000000\" stroke=\"#000000\" points=\"595.9901,-127.4723 606.3995,-125.4988 597.0313,-120.5502 595.9901,-127.4723\"/>\n</g>\n<!-- 140188869213392* -->\n<g id=\"node17\" class=\"node\">\n<title>140188869213392*</title>\n<ellipse fill=\"none\" stroke=\"#000000\" cx=\"274\" cy=\"-102.5\" rx=\"27\" ry=\"18\"/>\n<text text-anchor=\"middle\" x=\"274\" y=\"-98.8\" font-family=\"Times,serif\" font-size=\"14.00\" fill=\"#000000\">*</text>\n</g>\n<!-- 140188869213392*&#45;&gt;140188869213392 -->\n<g id=\"edge7\" class=\"edge\">\n<title>140188869213392*&#45;&gt;140188869213392</title>\n<path fill=\"none\" stroke=\"#000000\" d=\"M301.2622,-102.5C310.2131,-102.5 320.8102,-102.5 332.1822,-102.5\"/>\n<polygon fill=\"#000000\" stroke=\"#000000\" points=\"332.3533,-106.0001 342.3533,-102.5 332.3533,-99.0001 332.3533,-106.0001\"/>\n</g>\n<!-- 140188869211792 -->\n<g id=\"node18\" class=\"node\">\n<title>140188869211792</title>\n<polygon fill=\"none\" stroke=\"#000000\" points=\"1744.5,-110.5 1744.5,-146.5 1940.5,-146.5 1940.5,-110.5 1744.5,-110.5\"/>\n<text text-anchor=\"middle\" x=\"1754.5\" y=\"-124.8\" font-family=\"Times,serif\" font-size=\"14.00\" fill=\"#000000\"> </text>\n<polyline fill=\"none\" stroke=\"#000000\" points=\"1764.5,-110.5 1764.5,-146.5 \"/>\n<text text-anchor=\"middle\" x=\"1809\" y=\"-124.8\" font-family=\"Times,serif\" font-size=\"14.00\" fill=\"#000000\">data &#45;1.0000</text>\n<polyline fill=\"none\" stroke=\"#000000\" points=\"1853.5,-110.5 1853.5,-146.5 \"/>\n<text text-anchor=\"middle\" x=\"1897\" y=\"-124.8\" font-family=\"Times,serif\" font-size=\"14.00\" fill=\"#000000\">grad 0.1464</text>\n</g>\n<!-- 140188869211792&#45;&gt;140188869211088+ -->\n<g id=\"edge23\" class=\"edge\">\n<title>140188869211792&#45;&gt;140188869211088+</title>\n<path fill=\"none\" stroke=\"#000000\" d=\"M1940.6344,-111.486C1950.2015,-109.8273 1959.4268,-108.2279 1967.738,-106.7869\"/>\n<polygon fill=\"#000000\" stroke=\"#000000\" points=\"1968.4785,-110.2108 1977.7336,-105.0539 1967.2827,-103.3137 1968.4785,-110.2108\"/>\n</g>\n<!-- 140188869212432 -->\n<g id=\"node19\" class=\"node\">\n<title>140188869212432</title>\n<polygon fill=\"none\" stroke=\"#000000\" points=\"1104,-83.5 1104,-119.5 1300,-119.5 1300,-83.5 1104,-83.5\"/>\n<text text-anchor=\"middle\" x=\"1116\" y=\"-97.8\" font-family=\"Times,serif\" font-size=\"14.00\" fill=\"#000000\">n</text>\n<polyline fill=\"none\" stroke=\"#000000\" points=\"1128,-83.5 1128,-119.5 \"/>\n<text text-anchor=\"middle\" x=\"1170.5\" y=\"-97.8\" font-family=\"Times,serif\" font-size=\"14.00\" fill=\"#000000\">data 0.8814</text>\n<polyline fill=\"none\" stroke=\"#000000\" points=\"1213,-83.5 1213,-119.5 \"/>\n<text text-anchor=\"middle\" x=\"1256.5\" y=\"-97.8\" font-family=\"Times,serif\" font-size=\"14.00\" fill=\"#000000\">grad 0.5000</text>\n</g>\n<!-- 140188869212432&#45;&gt;140188869212304* -->\n<g id=\"edge15\" class=\"edge\">\n<title>140188869212432&#45;&gt;140188869212304*</title>\n<path fill=\"none\" stroke=\"#000000\" d=\"M1300.2922,-84.4057C1309.5786,-82.7907 1318.5324,-81.2335 1326.6253,-79.826\"/>\n<polygon fill=\"#000000\" stroke=\"#000000\" points=\"1327.4713,-83.2315 1336.7237,-78.0698 1326.2719,-76.335 1327.4713,-83.2315\"/>\n</g>\n<!-- 140188869212432+&#45;&gt;140188869212432 -->\n<g id=\"edge8\" class=\"edge\">\n<title>140188869212432+&#45;&gt;140188869212432</title>\n<path fill=\"none\" stroke=\"#000000\" d=\"M1068.3115,-101.5C1075.8223,-101.5 1084.4512,-101.5 1093.6318,-101.5\"/>\n<polygon fill=\"#000000\" stroke=\"#000000\" points=\"1093.7835,-105.0001 1103.7835,-101.5 1093.7835,-98.0001 1093.7835,-105.0001\"/>\n</g>\n<!-- 140188869214160 -->\n<g id=\"node21\" class=\"node\">\n<title>140188869214160</title>\n<polygon fill=\"none\" stroke=\"#000000\" points=\"739,-56.5 739,-92.5 935,-92.5 935,-56.5 739,-56.5\"/>\n<text text-anchor=\"middle\" x=\"751\" y=\"-70.8\" font-family=\"Times,serif\" font-size=\"14.00\" fill=\"#000000\">b</text>\n<polyline fill=\"none\" stroke=\"#000000\" points=\"763,-56.5 763,-92.5 \"/>\n<text text-anchor=\"middle\" x=\"805.5\" y=\"-70.8\" font-family=\"Times,serif\" font-size=\"14.00\" fill=\"#000000\">data 6.8814</text>\n<polyline fill=\"none\" stroke=\"#000000\" points=\"848,-56.5 848,-92.5 \"/>\n<text text-anchor=\"middle\" x=\"891.5\" y=\"-70.8\" font-family=\"Times,serif\" font-size=\"14.00\" fill=\"#000000\">grad 0.5000</text>\n</g>\n<!-- 140188869214160&#45;&gt;140188869212432+ -->\n<g id=\"edge13\" class=\"edge\">\n<title>140188869214160&#45;&gt;140188869212432+</title>\n<path fill=\"none\" stroke=\"#000000\" d=\"M935.1161,-87.486C959.8615,-90.7611 984.9122,-94.0766 1004.4312,-96.66\"/>\n<polygon fill=\"#000000\" stroke=\"#000000\" points=\"1004.0126,-100.135 1014.3854,-97.9775 1004.9311,-93.1956 1004.0126,-100.135\"/>\n</g>\n<!-- 140188869214032 -->\n<g id=\"node22\" class=\"node\">\n<title>140188869214032</title>\n<polygon fill=\"none\" stroke=\"#000000\" points=\"337,-139.5 337,-175.5 570,-175.5 570,-139.5 337,-139.5\"/>\n<text text-anchor=\"middle\" x=\"365.5\" y=\"-153.8\" font-family=\"Times,serif\" font-size=\"14.00\" fill=\"#000000\">x1*w1</text>\n<polyline fill=\"none\" stroke=\"#000000\" points=\"394,-139.5 394,-175.5 \"/>\n<text text-anchor=\"middle\" x=\"438.5\" y=\"-153.8\" font-family=\"Times,serif\" font-size=\"14.00\" fill=\"#000000\">data &#45;6.0000</text>\n<polyline fill=\"none\" stroke=\"#000000\" points=\"483,-139.5 483,-175.5 \"/>\n<text text-anchor=\"middle\" x=\"526.5\" y=\"-153.8\" font-family=\"Times,serif\" font-size=\"14.00\" fill=\"#000000\">grad 0.5000</text>\n</g>\n<!-- 140188869214032&#45;&gt;140188869213328+ -->\n<g id=\"edge22\" class=\"edge\">\n<title>140188869214032&#45;&gt;140188869213328+</title>\n<path fill=\"none\" stroke=\"#000000\" d=\"M568.9566,-139.4901C578.7184,-137.9673 588.037,-136.5137 596.3947,-135.21\"/>\n<polygon fill=\"#000000\" stroke=\"#000000\" points=\"597.0871,-138.6444 606.4281,-133.6449 596.0082,-131.7281 597.0871,-138.6444\"/>\n</g>\n<!-- 140188869214032*&#45;&gt;140188869214032 -->\n<g id=\"edge9\" class=\"edge\">\n<title>140188869214032*&#45;&gt;140188869214032</title>\n<path fill=\"none\" stroke=\"#000000\" d=\"M301.2622,-157.5C308.8324,-157.5 317.5801,-157.5 326.9781,-157.5\"/>\n<polygon fill=\"#000000\" stroke=\"#000000\" points=\"326.9853,-161.0001 336.9853,-157.5 326.9852,-154.0001 326.9853,-161.0001\"/>\n</g>\n<!-- 140188869211024 -->\n<g id=\"node24\" class=\"node\">\n<title>140188869211024</title>\n<polygon fill=\"none\" stroke=\"#000000\" points=\"1106,-28.5 1106,-64.5 1298,-64.5 1298,-28.5 1106,-28.5\"/>\n<text text-anchor=\"middle\" x=\"1116\" y=\"-42.8\" font-family=\"Times,serif\" font-size=\"14.00\" fill=\"#000000\"> </text>\n<polyline fill=\"none\" stroke=\"#000000\" points=\"1126,-28.5 1126,-64.5 \"/>\n<text text-anchor=\"middle\" x=\"1168.5\" y=\"-42.8\" font-family=\"Times,serif\" font-size=\"14.00\" fill=\"#000000\">data 2.0000</text>\n<polyline fill=\"none\" stroke=\"#000000\" points=\"1211,-28.5 1211,-64.5 \"/>\n<text text-anchor=\"middle\" x=\"1254.5\" y=\"-42.8\" font-family=\"Times,serif\" font-size=\"14.00\" fill=\"#000000\">grad 0.2203</text>\n</g>\n<!-- 140188869211024&#45;&gt;140188869212304* -->\n<g id=\"edge16\" class=\"edge\">\n<title>140188869211024&#45;&gt;140188869212304*</title>\n<path fill=\"none\" stroke=\"#000000\" d=\"M1298.4428,-62.6736C1308.4412,-64.3504 1318.0978,-65.9698 1326.7618,-67.4228\"/>\n<polygon fill=\"#000000\" stroke=\"#000000\" points=\"1326.3527,-70.903 1336.7939,-69.1052 1327.5105,-63.9994 1326.3527,-70.903\"/>\n</g>\n<!-- 140188869214096 -->\n<g id=\"node25\" class=\"node\">\n<title>140188869214096</title>\n<polygon fill=\"none\" stroke=\"#000000\" points=\"3.5,-84.5 3.5,-120.5 207.5,-120.5 207.5,-84.5 3.5,-84.5\"/>\n<text text-anchor=\"middle\" x=\"19.5\" y=\"-98.8\" font-family=\"Times,serif\" font-size=\"14.00\" fill=\"#000000\">x2</text>\n<polyline fill=\"none\" stroke=\"#000000\" points=\"35.5,-84.5 35.5,-120.5 \"/>\n<text text-anchor=\"middle\" x=\"78\" y=\"-98.8\" font-family=\"Times,serif\" font-size=\"14.00\" fill=\"#000000\">data 0.0000</text>\n<polyline fill=\"none\" stroke=\"#000000\" points=\"120.5,-84.5 120.5,-120.5 \"/>\n<text text-anchor=\"middle\" x=\"164\" y=\"-98.8\" font-family=\"Times,serif\" font-size=\"14.00\" fill=\"#000000\">grad 0.5000</text>\n</g>\n<!-- 140188869214096&#45;&gt;140188869213392* -->\n<g id=\"edge20\" class=\"edge\">\n<title>140188869214096&#45;&gt;140188869213392*</title>\n<path fill=\"none\" stroke=\"#000000\" d=\"M207.888,-102.5C218.0786,-102.5 227.8975,-102.5 236.7094,-102.5\"/>\n<polygon fill=\"#000000\" stroke=\"#000000\" points=\"236.9159,-106.0001 246.9159,-102.5 236.9158,-99.0001 236.9159,-106.0001\"/>\n</g>\n<!-- 140188869213072 -->\n<g id=\"node26\" class=\"node\">\n<title>140188869213072</title>\n<polygon fill=\"none\" stroke=\"#000000\" points=\"2,-29.5 2,-65.5 209,-65.5 209,-29.5 2,-29.5\"/>\n<text text-anchor=\"middle\" x=\"19.5\" y=\"-43.8\" font-family=\"Times,serif\" font-size=\"14.00\" fill=\"#000000\">w2</text>\n<polyline fill=\"none\" stroke=\"#000000\" points=\"37,-29.5 37,-65.5 \"/>\n<text text-anchor=\"middle\" x=\"79.5\" y=\"-43.8\" font-family=\"Times,serif\" font-size=\"14.00\" fill=\"#000000\">data 1.0000</text>\n<polyline fill=\"none\" stroke=\"#000000\" points=\"122,-29.5 122,-65.5 \"/>\n<text text-anchor=\"middle\" x=\"165.5\" y=\"-43.8\" font-family=\"Times,serif\" font-size=\"14.00\" fill=\"#000000\">grad 0.0000</text>\n</g>\n<!-- 140188869213072&#45;&gt;140188869213392* -->\n<g id=\"edge21\" class=\"edge\">\n<title>140188869213072&#45;&gt;140188869213392*</title>\n<path fill=\"none\" stroke=\"#000000\" d=\"M179.1277,-65.5688C189.8946,-68.636 200.7889,-71.9778 211,-75.5 221.4855,-79.1168 232.6874,-83.6793 242.694,-88.0193\"/>\n<polygon fill=\"#000000\" stroke=\"#000000\" points=\"241.2981,-91.229 251.8592,-92.0741 244.1302,-84.8274 241.2981,-91.229\"/>\n</g>\n<!-- 140188869561808 -->\n<g id=\"node27\" class=\"node\">\n<title>140188869561808</title>\n<polygon fill=\"none\" stroke=\"#000000\" points=\"2846,-54.5 2846,-90.5 3042,-90.5 3042,-54.5 2846,-54.5\"/>\n<text text-anchor=\"middle\" x=\"2858\" y=\"-68.8\" font-family=\"Times,serif\" font-size=\"14.00\" fill=\"#000000\">o</text>\n<polyline fill=\"none\" stroke=\"#000000\" points=\"2870,-54.5 2870,-90.5 \"/>\n<text text-anchor=\"middle\" x=\"2912.5\" y=\"-68.8\" font-family=\"Times,serif\" font-size=\"14.00\" fill=\"#000000\">data 0.7071</text>\n<polyline fill=\"none\" stroke=\"#000000\" points=\"2955,-54.5 2955,-90.5 \"/>\n<text text-anchor=\"middle\" x=\"2998.5\" y=\"-68.8\" font-family=\"Times,serif\" font-size=\"14.00\" fill=\"#000000\">grad 1.0000</text>\n</g>\n<!-- 140188869561808*&#45;&gt;140188869561808 -->\n<g id=\"edge10\" class=\"edge\">\n<title>140188869561808*&#45;&gt;140188869561808</title>\n<path fill=\"none\" stroke=\"#000000\" d=\"M2810.3115,-72.5C2817.8223,-72.5 2826.4512,-72.5 2835.6318,-72.5\"/>\n<polygon fill=\"#000000\" stroke=\"#000000\" points=\"2835.7835,-76.0001 2845.7835,-72.5 2835.7835,-69.0001 2835.7835,-76.0001\"/>\n</g>\n</g>\n</svg>\n"
          },
          "metadata": {},
          "execution_count": 57
        }
      ]
    },
    {
      "cell_type": "code",
      "source": [
        "import torch"
      ],
      "metadata": {
        "id": "AK_xopoZGs3j"
      },
      "execution_count": 58,
      "outputs": []
    },
    {
      "cell_type": "code",
      "source": [
        "x1 = torch.Tensor([2.0]).double()     ; x1.requires_grad = True\n",
        "x2 = torch.Tensor([0.0]).double()     ; x2.requires_grad = True\n",
        "                                      \n",
        "\n",
        "\n",
        "w1 = torch.Tensor([-3.0]).double()   ; w1.requires_grad = True\n",
        "w2 = torch.Tensor([1.0]).double()    ; w2.requires_grad = True  \n",
        "b = torch.Tensor([6.88137]).double()\n",
        "n = x1*w1 + x2*w2 + b\n",
        "o = torch.tanh(n)\n",
        "\n",
        "print(o.data.item())\n",
        "o.backward()\n",
        "\n",
        "\n"
      ],
      "metadata": {
        "colab": {
          "base_uri": "https://localhost:8080/"
        },
        "id": "O7mq5wRKIuTf",
        "outputId": "ed7c2b67-ee77-4d7a-ef3c-34cbbd0b917d"
      },
      "execution_count": 59,
      "outputs": [
        {
          "output_type": "stream",
          "name": "stdout",
          "text": [
            "0.7071050214706146\n"
          ]
        }
      ]
    },
    {
      "cell_type": "code",
      "source": [
        "o.item()"
      ],
      "metadata": {
        "colab": {
          "base_uri": "https://localhost:8080/"
        },
        "id": "BOf4sgAykySf",
        "outputId": "84137cc1-999b-4031-d1ae-7273d0d084e9"
      },
      "execution_count": 60,
      "outputs": [
        {
          "output_type": "execute_result",
          "data": {
            "text/plain": [
              "0.7071050214706146"
            ]
          },
          "metadata": {},
          "execution_count": 60
        }
      ]
    },
    {
      "cell_type": "code",
      "source": [
        "class Neuron:\n",
        "\n",
        "  def __init__(self, nin):\n",
        "    self.w = [Value(random.uniform(-1, 1)) for _ in range(nin)]\n",
        "    self.b = Value(random.uniform(-1, 1))\n",
        "\n",
        "  def __call__(self, x):\n",
        "    #w*x + b\n",
        "    act = sum((wi * xi for wi, xi in zip(self.w, x)), self.b) \n",
        "    out = act.tanh()\n",
        "    return out\n",
        "  def parameters(self):\n",
        "    return self.w + [self.b]\n",
        "\n",
        "class Layer:\n",
        "\n",
        "  def __init__(self, nin, nout):\n",
        "    self.neurons = [Neuron(nin) for _ in range(nout)]\n",
        "\n",
        "  def __call__(self, x):\n",
        "    outs = [n(x) for n in self.neurons]\n",
        "    return outs[0] if len(outs) == 1 else outs\n",
        "\n",
        "  def parameters(self):\n",
        "    return [p for neuron in self.neurons for p in neuron.parameters()]\n",
        "\n",
        "class MLP:\n",
        "\n",
        "  def __init__(self, nin, nouts):\n",
        "    sz = [nin] + nouts\n",
        "    self.layers = [Layer(sz[i], sz[i+1]) for i in range(len(nouts))]\n",
        "\n",
        "  def __call__(self, x):\n",
        "    for layer in self.layers:\n",
        "      x = layer(x)\n",
        "    return x\n",
        "\n",
        "  def parameters(self):\n",
        "    return [p for layer in self.layers for p in layer.parameters()]\n",
        "\n",
        "\n",
        "  \n",
        "  "
      ],
      "metadata": {
        "id": "FA96el2Rs_ui"
      },
      "execution_count": 61,
      "outputs": []
    },
    {
      "cell_type": "code",
      "source": [
        "x = [2.0, 3.0, -1.0]\n",
        "n = MLP(3, [4, 4, 1])\n",
        "n(x)"
      ],
      "metadata": {
        "colab": {
          "base_uri": "https://localhost:8080/"
        },
        "id": "OGsi9pvY_y5e",
        "outputId": "c427c911-a8cf-417a-ea71-ad6f579d8e33"
      },
      "execution_count": 73,
      "outputs": [
        {
          "output_type": "execute_result",
          "data": {
            "text/plain": [
              "Value(data=-0.16443236509366133)"
            ]
          },
          "metadata": {},
          "execution_count": 73
        }
      ]
    },
    {
      "cell_type": "code",
      "source": [
        "draw_dot(n(x));"
      ],
      "metadata": {
        "id": "nWOq4OzIxPfA"
      },
      "execution_count": 74,
      "outputs": []
    },
    {
      "cell_type": "code",
      "source": [
        "xs = [\n",
        "    [2.0, 3.0, -1.0],\n",
        "    [3.0, -1.0, 0.5],\n",
        "    [1.0, 1.0, -1.0],\n",
        "]\n",
        "ys = [1.0, -1.0, -1.0, -1.0] #desired targets\n"
      ],
      "metadata": {
        "id": "H1pCNcYA0PL9"
      },
      "execution_count": 79,
      "outputs": []
    },
    {
      "cell_type": "code",
      "source": [
        "for k in range(20):\n",
        "  #forward pass\n",
        "  ypred = [n(x) for x in xs]\n",
        "  loss = sum((yout - ygt) ** 2 for ygt, yout in zip(ys, ypred))\n",
        "  \n",
        "  #backward\n",
        "  for p in n.parameters():\n",
        "    p.grad = 0.0\n",
        "\n",
        "  loss.backward()\n",
        "\n",
        "  for p in n.parameters():\n",
        "    p.data += -0.05 * p.grad\n",
        "\n",
        "  print(k, loss.data)   "
      ],
      "metadata": {
        "colab": {
          "base_uri": "https://localhost:8080/"
        },
        "id": "wt-QnPnS0tpx",
        "outputId": "4187e087-fbef-4a0b-b948-12ca7570d9e6"
      },
      "execution_count": 114,
      "outputs": [
        {
          "output_type": "stream",
          "name": "stdout",
          "text": [
            "0 0.35246366504267523\n",
            "1 0.19598483421088772\n",
            "2 0.15938417134952962\n",
            "3 0.1339907141828214\n",
            "4 0.11496886855157454\n",
            "5 0.10027115921823758\n",
            "6 0.08862440528828366\n",
            "7 0.07920061185290964\n",
            "8 0.07144062408715393\n",
            "9 0.06495461378624898\n",
            "10 0.05946331182052958\n",
            "11 0.05476190764125054\n",
            "12 0.0506971013699835\n",
            "13 0.047152074816543\n",
            "14 0.04403638747465569\n",
            "15 0.04127902438055269\n",
            "16 0.03882351295800776\n",
            "17 0.036624429154450036\n",
            "18 0.03464485564830795\n",
            "19 0.03285450460508851\n"
          ]
        }
      ]
    },
    {
      "cell_type": "code",
      "source": [
        "ypred"
      ],
      "metadata": {
        "colab": {
          "base_uri": "https://localhost:8080/"
        },
        "id": "KSBII5ZH1Fbq",
        "outputId": "9b22e9b7-4a4f-4ee8-d854-5dbdc776b990"
      },
      "execution_count": 115,
      "outputs": [
        {
          "output_type": "execute_result",
          "data": {
            "text/plain": [
              "[Value(data=0.8854801621944433),\n",
              " Value(data=-0.9676934753219324),\n",
              " Value(data=-0.8632666835869806)]"
            ]
          },
          "metadata": {},
          "execution_count": 115
        }
      ]
    },
    {
      "cell_type": "code",
      "source": [
        ""
      ],
      "metadata": {
        "id": "C4cCQH4cC6A-"
      },
      "execution_count": null,
      "outputs": []
    }
  ]
}