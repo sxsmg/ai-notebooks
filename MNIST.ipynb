{
  "cells": [
    {
      "cell_type": "markdown",
      "metadata": {
        "id": "view-in-github",
        "colab_type": "text"
      },
      "source": [
        "<a href=\"https://colab.research.google.com/github/sxsmg/ai-notebooks/blob/main/MNIST.ipynb\" target=\"_parent\"><img src=\"https://colab.research.google.com/assets/colab-badge.svg\" alt=\"Open In Colab\"/></a>"
      ]
    },
    {
      "cell_type": "code",
      "execution_count": 27,
      "metadata": {
        "id": "2gs0fdF66g1c"
      },
      "outputs": [],
      "source": [
        "data_sources = {\n",
        "    \"training_images\": \"train-images-idx3-ubyte.gz\",  # 60,000 training images.\n",
        "    \"test_images\": \"t10k-images-idx3-ubyte.gz\",  # 10,000 test images.\n",
        "    \"training_labels\": \"train-labels-idx1-ubyte.gz\",  # 60,000 training labels.\n",
        "    \"test_labels\": \"t10k-labels-idx1-ubyte.gz\",  # 10,000 test labels.\n",
        "}"
      ]
    },
    {
      "cell_type": "code",
      "source": [
        "import numpy as np\n",
        "%pylab inline\n",
        "\n",
        "from tqdm import trange\n",
        "np.set_printoptions(suppress=True)"
      ],
      "metadata": {
        "colab": {
          "base_uri": "https://localhost:8080/"
        },
        "id": "mJAG4AQUNlBF",
        "outputId": "eaadbcb9-3760-416d-9353-a099be255bb3"
      },
      "execution_count": 47,
      "outputs": [
        {
          "output_type": "stream",
          "name": "stdout",
          "text": [
            "Populating the interactive namespace from numpy and matplotlib\n"
          ]
        },
        {
          "output_type": "stream",
          "name": "stderr",
          "text": [
            "/usr/local/lib/python3.7/dist-packages/IPython/core/magics/pylab.py:161: UserWarning: pylab import has clobbered these variables: ['sample', 'axes', 'seed']\n",
            "`%matplotlib` prevents importing * from pylab and numpy\n",
            "  \"\\n`%matplotlib` prevents importing * from pylab and numpy\"\n"
          ]
        }
      ]
    },
    {
      "cell_type": "code",
      "execution_count": 29,
      "metadata": {
        "id": "rgQ-KLB5CKDy"
      },
      "outputs": [],
      "source": [
        "def fetch(url):\n",
        "  import requests, gzip, os, hashlib, numpy\n",
        "  fp = os.path.join(\"/tmp\", hashlib.md5(url.encode('utf-8')).hexdigest())\n",
        "  if os.path.isfile(fp):\n",
        "    with open(fp, \"rb\") as f:\n",
        "      dat = f.read()\n",
        "  else:\n",
        "    with open(fp, \"wb\") as f:\n",
        "      dat = requests.get(url).content\n",
        "      f.write(dat)\n",
        "  return numpy.frombuffer(gzip.decompress(dat), dtype=np.uint8).copy()\n",
        "X_train = fetch(\"http://yann.lecun.com/exdb/mnist/train-images-idx3-ubyte.gz\")[0x10:].reshape((-1, 28, 28))\n",
        "Y_train = fetch(\"http://yann.lecun.com/exdb/mnist/train-labels-idx1-ubyte.gz\")[8:]\n",
        "X_test = fetch(\"http://yann.lecun.com/exdb/mnist/t10k-images-idx3-ubyte.gz\")[0x10:].reshape((-1, 28, 28))\n",
        "Y_test = fetch(\"http://yann.lecun.com/exdb/mnist/t10k-labels-idx1-ubyte.gz\")[8:]\n"
      ]
    },
    {
      "cell_type": "code",
      "execution_count": 30,
      "metadata": {
        "colab": {
          "base_uri": "https://localhost:8080/",
          "height": 265
        },
        "id": "GPRRA8anGljI",
        "outputId": "444f84df-6285-4437-a488-26fa2543b243"
      },
      "outputs": [
        {
          "output_type": "display_data",
          "data": {
            "text/plain": [
              "<Figure size 432x288 with 1 Axes>"
            ],
            "image/png": "[encoded data removed]"
          },
          "metadata": {
            "needs_background": "light"
          }
        }
      ],
      "source": [
        "import matplotlib.pyplot as plt\n",
        "\n",
        "mnist_image = X_train[59999, :].reshape(28, 28)\n",
        "\n",
        "plt.imshow(mnist_image)\n",
        "plt.show()"
      ]
    },
    {
      "cell_type": "code",
      "execution_count": 31,
      "metadata": {
        "colab": {
          "base_uri": "https://localhost:8080/",
          "height": 109
        },
        "id": "AiCntx3CI6yX",
        "outputId": "9d8fca9d-8183-4d92-d790-5003cbaae90d"
      },
      "outputs": [
        {
          "output_type": "display_data",
          "data": {
            "text/plain": [
              "<Figure size 432x288 with 5 Axes>"
            ],
            "image/png": "[encoded data removed]"
          },
          "metadata": {
            "needs_background": "light"
          }
        }
      ],
      "source": [
        "num_examples = 5\n",
        "seed = 147197952744\n",
        "rng = np.random.default_rng(seed)\n",
        "\n",
        "fig, axes = plt.subplots(1, num_examples)\n",
        "for sample, ax in zip(rng.choice(X_train, size=num_examples, replace=False), axes):\n",
        "  ax.imshow(sample.reshape(28, 28), cmap=\"gray\")"
      ]
    },
    {
      "cell_type": "code",
      "source": [
        "print(\"The data type of training images: {}\".format(X_train.dtype))\n",
        "print(\"The data type of training images: {}\".format(X_test.dtype))\n"
      ],
      "metadata": {
        "colab": {
          "base_uri": "https://localhost:8080/"
        },
        "id": "8W2klcnNozus",
        "outputId": "0ae50ab0-a980-4b4a-e034-d3f90838e1e8"
      },
      "execution_count": 32,
      "outputs": [
        {
          "output_type": "stream",
          "name": "stdout",
          "text": [
            "The data type of training images: uint8\n",
            "The data type of training images: uint8\n"
          ]
        }
      ]
    },
    {
      "cell_type": "code",
      "source": [
        "training_sample, test_sample = 1000, 1000\n",
        "training_images = X_train[0:training_sample] / 255\n",
        "test_images = X_test[0:test_sample] / 255"
      ],
      "metadata": {
        "id": "UMpdqVuopClX"
      },
      "execution_count": 33,
      "outputs": []
    },
    {
      "cell_type": "code",
      "source": [
        "print(\"The data type of training images {}\".format(training_images.dtype))\n",
        "print(\"The data type of training images {}\".format(test_images.dtype))"
      ],
      "metadata": {
        "colab": {
          "base_uri": "https://localhost:8080/"
        },
        "id": "NIfPNcRaqBU8",
        "outputId": "25fb4f9f-84c7-41fe-c791-dfe5828db6e0"
      },
      "execution_count": 34,
      "outputs": [
        {
          "output_type": "stream",
          "name": "stdout",
          "text": [
            "The data type of training images float64\n",
            "The data type of training images float64\n"
          ]
        }
      ]
    },
    {
      "cell_type": "code",
      "source": [
        "print(\"The data type of training labels: {}\".format(Y_train.dtype))\n",
        "print(\"The data type of test labels {}\".format(Y_test.dtype))"
      ],
      "metadata": {
        "colab": {
          "base_uri": "https://localhost:8080/"
        },
        "id": "X56aghoIqP7r",
        "outputId": "53d70b94-63d7-4c38-dce3-07ff97275f15"
      },
      "execution_count": 35,
      "outputs": [
        {
          "output_type": "stream",
          "name": "stdout",
          "text": [
            "The data type of training labels: uint8\n",
            "The data type of test labels uint8\n"
          ]
        }
      ]
    },
    {
      "cell_type": "code",
      "source": [
        "#ONE HOT ENCODING\n",
        "\n",
        "def one_hot_encoding(labels, dimension=10):\n",
        "\n",
        "  one_hot_labels = labels[..., None] == np.arange(dimension)[None]\n",
        "\n",
        "  return one_hot_labels.astype(np.float64)"
      ],
      "metadata": {
        "id": "qFLInmxWqxTQ"
      },
      "execution_count": 36,
      "outputs": []
    },
    {
      "cell_type": "code",
      "source": [
        "training_labels = one_hot_encoding(Y_train[:training_sample])\n",
        "test_labels = one_hot_encoding(Y_test[:test_sample])"
      ],
      "metadata": {
        "id": "4C3nLAXltr-v"
      },
      "execution_count": 37,
      "outputs": []
    },
    {
      "cell_type": "code",
      "source": [
        "print(training_labels[0])\n",
        "print(training_labels[1])\n",
        "print(training_labels[2])"
      ],
      "metadata": {
        "colab": {
          "base_uri": "https://localhost:8080/"
        },
        "id": "We2_xfQ0rIzy",
        "outputId": "0a60fded-03d1-473a-bd5c-1a9011784b2e"
      },
      "execution_count": 38,
      "outputs": [
        {
          "output_type": "stream",
          "name": "stdout",
          "text": [
            "[0. 0. 0. 0. 0. 1. 0. 0. 0. 0.]\n",
            "[1. 0. 0. 0. 0. 0. 0. 0. 0. 0.]\n",
            "[0. 0. 0. 0. 1. 0. 0. 0. 0. 0.]\n"
          ]
        }
      ]
    },
    {
      "cell_type": "code",
      "source": [
        "print(Y_train[0])\n",
        "print(Y_train[1])\n",
        "print(Y_train[2])"
      ],
      "metadata": {
        "colab": {
          "base_uri": "https://localhost:8080/"
        },
        "id": "n8nRw3JOtKvw",
        "outputId": "d4c7401a-4345-4857-b968-f3308c0c4f06"
      },
      "execution_count": 39,
      "outputs": [
        {
          "output_type": "stream",
          "name": "stdout",
          "text": [
            "5\n",
            "0\n",
            "4\n"
          ]
        }
      ]
    },
    {
      "cell_type": "code",
      "source": [
        "seed  = 884736743\n",
        "rng = np.random.default_rng(seed)"
      ],
      "metadata": {
        "id": "fTWLALG5wkby"
      },
      "execution_count": 40,
      "outputs": []
    },
    {
      "cell_type": "code",
      "source": [
        "def relu(x):\n",
        "  return (x >= 0) * x\n",
        "\n",
        "def relu2deriv(output):\n",
        "  return output >= 0"
      ],
      "metadata": {
        "id": "c89lQFHP9B5Z"
      },
      "execution_count": 41,
      "outputs": []
    },
    {
      "cell_type": "code",
      "source": [
        "learning_rate = 0.005\n",
        "epochs = 200\n",
        "hidden_size = 100\n",
        "pixels_per_image = 784\n",
        "num_labels = 10\n"
      ],
      "metadata": {
        "id": "prIXnOtp-sed"
      },
      "execution_count": 78,
      "outputs": []
    },
    {
      "cell_type": "code",
      "source": [
        "weights_1 = 0.2 * rng.random((pixels_per_image, hidden_size)) - 0.1\n",
        "weights_2 = 0.2 * rng.random((hidden_size, num_labels)) - 0.1"
      ],
      "metadata": {
        "id": "vR5WLCGq_JTI"
      },
      "execution_count": 43,
      "outputs": []
    },
    {
      "cell_type": "code",
      "source": [
        "# To store training and test set losses and accurate predictions\n",
        "# for visualization.\n",
        "store_training_loss = []\n",
        "store_training_accurate_pred = []\n",
        "store_test_loss = []\n",
        "store_test_accurate_pred = []\n",
        "\n",
        "# This is a training loop.\n",
        "# Run the learning experiment for a defined number of epochs (iterations).\n",
        "for j in range(epochs):\n",
        "\n",
        "    #################\n",
        "    # Training step #\n",
        "    #################\n",
        "\n",
        "    # Set the initial loss/error and the number of accurate predictions to zero.\n",
        "    training_loss = 0.0\n",
        "    training_accurate_predictions = 0\n",
        "\n",
        "    # For all images in the training set, perform a forward pass\n",
        "    # and backpropagation and adjust the weights accordingly.\n",
        "    for i in range(len(training_images)):\n",
        "        # Forward propagation/forward pass:\n",
        "        # 1. The input layer:\n",
        "        #    Initialize the training image data as inputs.\n",
        "        layer_0 = training_images[i]\n",
        "        # 2. The hidden layer:\n",
        "        #    Take in the training image data into the middle layer by\n",
        "        #    matrix-multiplying it by randomly initialized weights.\n",
        "        layer_1 = np.dot(layer_0.flatten(), weights_1)\n",
        "        # 3. Pass the hidden layer's output through the ReLU activation function.\n",
        "        layer_1 = relu(layer_1)\n",
        "        # 4. Define the dropout function for regularization.\n",
        "        dropout_mask = rng.integers(low=0, high=2, size=layer_1.shape)\n",
        "        # 5. Apply dropout to the hidden layer's output.\n",
        "        layer_1 *= dropout_mask * 2\n",
        "        # 6. The output layer:\n",
        "        #    Ingest the output of the middle layer into the the final layer\n",
        "        #    by matrix-multiplying it by randomly initialized weights.\n",
        "        #    Produce a 10-dimension vector with 10 scores.\n",
        "        layer_2 = np.dot(layer_1, weights_2)\n",
        "\n",
        "        # Backpropagation/backward pass:\n",
        "        # 1. Measure the training error (loss function) between the actual\n",
        "        #    image labels (the truth) and the prediction by the model.\n",
        "        training_loss += np.sum((training_labels[i] - layer_2) ** 2)\n",
        "        # 2. Increment the accurate prediction count.\n",
        "        training_accurate_predictions += int(\n",
        "            np.argmax(layer_2) == np.argmax(training_labels[i])\n",
        "        )\n",
        "        # 3. Differentiate the loss function/error.\n",
        "        layer_2_delta = training_labels[i] - layer_2\n",
        "        # 4. Propagate the gradients of the loss function back through the hidden layer.\n",
        "        layer_1_delta = np.dot(weights_2, layer_2_delta) * relu2deriv(layer_1)\n",
        "        # 5. Apply the dropout to the gradients.\n",
        "        layer_1_delta *= dropout_mask\n",
        "        # 6. Update the weights for the middle and input layers\n",
        "        #    by multiplying them by the learning rate and the gradients.\n",
        "        weights_1 += learning_rate * np.outer(layer_0, layer_1_delta)\n",
        "        weights_2 += learning_rate * np.outer(layer_1, layer_2_delta)\n",
        "\n",
        "    # Store training set losses and accurate predictions.\n",
        "    store_training_loss.append(training_loss)\n",
        "    store_training_accurate_pred.append(training_accurate_predictions)\n",
        "\n",
        "    ###################\n",
        "    # Evaluation step #\n",
        "    ###################\n",
        "\n",
        "    # Evaluate model performance on the test set at each epoch.\n",
        "\n",
        "    # Unlike the training step, the weights are not modified for each image\n",
        "    # (or batch). Therefore the model can be applied to the test images in a\n",
        "    # vectorized manner, eliminating the need to loop over each image\n",
        "    # individually:\n",
        "\n",
        "    results = relu(test_images.reshape(1000,784) @ weights_1) @ weights_2\n",
        "\n",
        "    # Measure the error between the actual label (truth) and prediction values.\n",
        "    test_loss = np.sum((test_labels - results) ** 2)\n",
        "\n",
        "    # Measure prediction accuracy on test set\n",
        "    test_accurate_predictions = np.sum(\n",
        "        np.argmax(results, axis=1) == np.argmax(test_labels, axis=1)\n",
        "    )\n",
        "\n",
        "    # Store test set losses and accurate predictions.\n",
        "    store_test_loss.append(test_loss)\n",
        "    store_test_accurate_pred.append(test_accurate_predictions)\n",
        "\n",
        "\n",
        "    # Summarize error and accuracy metrics at each epoch\n",
        "    print(\n",
        "        \"\\n\"\n",
        "        + \"Epoch: \"\n",
        "        + str(j)\n",
        "        + \" Training set error:\"\n",
        "        + str(training_loss / float(len(training_images)))[0:5]\n",
        "        + \" Training set accuracy:\"\n",
        "        + str(training_accurate_predictions / float(len(training_images)))\n",
        "        + \" Test set error:\"\n",
        "        + str(test_loss / float(len(test_images)))[0:5]\n",
        "        + \" Test set accuracy:\"\n",
        "        + str(test_accurate_predictions / float(len(test_images)))\n",
        "    )"
      ],
      "metadata": {
        "colab": {
          "base_uri": "https://localhost:8080/"
        },
        "id": "mLell1kgtfKn",
        "outputId": "493b2dba-4a91-4b09-9f92-6a833c10b614"
      },
      "execution_count": 79,
      "outputs": [
        {
          "output_type": "stream",
          "name": "stdout",
          "text": [
            "\n",
            "Epoch: 0 Training set error:0.432 Training set accuracy:0.799 Test set error:0.436 Test set accuracy:0.783\n",
            "\n",
            "Epoch: 1 Training set error:0.412 Training set accuracy:0.817 Test set error:0.437 Test set accuracy:0.782\n",
            "\n",
            "Epoch: 2 Training set error:0.400 Training set accuracy:0.823 Test set error:0.436 Test set accuracy:0.79\n",
            "\n",
            "Epoch: 3 Training set error:0.408 Training set accuracy:0.827 Test set error:0.438 Test set accuracy:0.778\n",
            "\n",
            "Epoch: 4 Training set error:0.403 Training set accuracy:0.817 Test set error:0.429 Test set accuracy:0.798\n",
            "\n",
            "Epoch: 5 Training set error:0.393 Training set accuracy:0.833 Test set error:0.427 Test set accuracy:0.797\n",
            "\n",
            "Epoch: 6 Training set error:0.405 Training set accuracy:0.833 Test set error:0.430 Test set accuracy:0.783\n",
            "\n",
            "Epoch: 7 Training set error:0.412 Training set accuracy:0.813 Test set error:0.434 Test set accuracy:0.798\n",
            "\n",
            "Epoch: 8 Training set error:0.391 Training set accuracy:0.836 Test set error:0.431 Test set accuracy:0.789\n",
            "\n",
            "Epoch: 9 Training set error:0.407 Training set accuracy:0.833 Test set error:0.441 Test set accuracy:0.777\n",
            "\n",
            "Epoch: 10 Training set error:0.398 Training set accuracy:0.821 Test set error:0.434 Test set accuracy:0.791\n",
            "\n",
            "Epoch: 11 Training set error:0.400 Training set accuracy:0.843 Test set error:0.435 Test set accuracy:0.799\n",
            "\n",
            "Epoch: 12 Training set error:0.403 Training set accuracy:0.836 Test set error:0.434 Test set accuracy:0.793\n",
            "\n",
            "Epoch: 13 Training set error:0.394 Training set accuracy:0.825 Test set error:0.427 Test set accuracy:0.794\n",
            "\n",
            "Epoch: 14 Training set error:0.389 Training set accuracy:0.84 Test set error:0.434 Test set accuracy:0.796\n",
            "\n",
            "Epoch: 15 Training set error:0.393 Training set accuracy:0.831 Test set error:0.427 Test set accuracy:0.792\n",
            "\n",
            "Epoch: 16 Training set error:0.372 Training set accuracy:0.847 Test set error:0.422 Test set accuracy:0.795\n",
            "\n",
            "Epoch: 17 Training set error:0.380 Training set accuracy:0.856 Test set error:0.420 Test set accuracy:0.796\n",
            "\n",
            "Epoch: 18 Training set error:0.375 Training set accuracy:0.84 Test set error:0.415 Test set accuracy:0.801\n",
            "\n",
            "Epoch: 19 Training set error:0.378 Training set accuracy:0.84 Test set error:0.418 Test set accuracy:0.801\n",
            "\n",
            "Epoch: 20 Training set error:0.368 Training set accuracy:0.853 Test set error:0.423 Test set accuracy:0.804\n",
            "\n",
            "Epoch: 21 Training set error:0.381 Training set accuracy:0.861 Test set error:0.418 Test set accuracy:0.809\n",
            "\n",
            "Epoch: 22 Training set error:0.374 Training set accuracy:0.847 Test set error:0.417 Test set accuracy:0.812\n",
            "\n",
            "Epoch: 23 Training set error:0.379 Training set accuracy:0.857 Test set error:0.417 Test set accuracy:0.809\n",
            "\n",
            "Epoch: 24 Training set error:0.372 Training set accuracy:0.854 Test set error:0.427 Test set accuracy:0.809\n",
            "\n",
            "Epoch: 25 Training set error:0.379 Training set accuracy:0.856 Test set error:0.413 Test set accuracy:0.808\n",
            "\n",
            "Epoch: 26 Training set error:0.373 Training set accuracy:0.856 Test set error:0.422 Test set accuracy:0.809\n",
            "\n",
            "Epoch: 27 Training set error:0.370 Training set accuracy:0.85 Test set error:0.422 Test set accuracy:0.805\n",
            "\n",
            "Epoch: 28 Training set error:0.388 Training set accuracy:0.856 Test set error:0.425 Test set accuracy:0.807\n",
            "\n",
            "Epoch: 29 Training set error:0.377 Training set accuracy:0.851 Test set error:0.425 Test set accuracy:0.797\n",
            "\n",
            "Epoch: 30 Training set error:0.374 Training set accuracy:0.851 Test set error:0.424 Test set accuracy:0.798\n",
            "\n",
            "Epoch: 31 Training set error:0.377 Training set accuracy:0.865 Test set error:0.425 Test set accuracy:0.805\n",
            "\n",
            "Epoch: 32 Training set error:0.362 Training set accuracy:0.867 Test set error:0.422 Test set accuracy:0.804\n",
            "\n",
            "Epoch: 33 Training set error:0.369 Training set accuracy:0.849 Test set error:0.417 Test set accuracy:0.798\n",
            "\n",
            "Epoch: 34 Training set error:0.353 Training set accuracy:0.865 Test set error:0.416 Test set accuracy:0.808\n",
            "\n",
            "Epoch: 35 Training set error:0.360 Training set accuracy:0.874 Test set error:0.416 Test set accuracy:0.813\n",
            "\n",
            "Epoch: 36 Training set error:0.367 Training set accuracy:0.869 Test set error:0.422 Test set accuracy:0.808\n",
            "\n",
            "Epoch: 37 Training set error:0.349 Training set accuracy:0.858 Test set error:0.411 Test set accuracy:0.807\n",
            "\n",
            "Epoch: 38 Training set error:0.374 Training set accuracy:0.875 Test set error:0.425 Test set accuracy:0.803\n",
            "\n",
            "Epoch: 39 Training set error:0.361 Training set accuracy:0.862 Test set error:0.420 Test set accuracy:0.812\n",
            "\n",
            "Epoch: 40 Training set error:0.349 Training set accuracy:0.871 Test set error:0.417 Test set accuracy:0.815\n",
            "\n",
            "Epoch: 41 Training set error:0.356 Training set accuracy:0.864 Test set error:0.422 Test set accuracy:0.807\n",
            "\n",
            "Epoch: 42 Training set error:0.348 Training set accuracy:0.879 Test set error:0.420 Test set accuracy:0.809\n",
            "\n",
            "Epoch: 43 Training set error:0.349 Training set accuracy:0.88 Test set error:0.411 Test set accuracy:0.814\n",
            "\n",
            "Epoch: 44 Training set error:0.357 Training set accuracy:0.865 Test set error:0.418 Test set accuracy:0.804\n",
            "\n",
            "Epoch: 45 Training set error:0.367 Training set accuracy:0.866 Test set error:0.425 Test set accuracy:0.818\n",
            "\n",
            "Epoch: 46 Training set error:0.360 Training set accuracy:0.858 Test set error:0.423 Test set accuracy:0.811\n",
            "\n",
            "Epoch: 47 Training set error:0.366 Training set accuracy:0.873 Test set error:0.424 Test set accuracy:0.81\n",
            "\n",
            "Epoch: 48 Training set error:0.361 Training set accuracy:0.874 Test set error:0.422 Test set accuracy:0.811\n",
            "\n",
            "Epoch: 49 Training set error:0.358 Training set accuracy:0.879 Test set error:0.426 Test set accuracy:0.81\n",
            "\n",
            "Epoch: 50 Training set error:0.347 Training set accuracy:0.878 Test set error:0.429 Test set accuracy:0.816\n",
            "\n",
            "Epoch: 51 Training set error:0.358 Training set accuracy:0.867 Test set error:0.423 Test set accuracy:0.806\n",
            "\n",
            "Epoch: 52 Training set error:0.355 Training set accuracy:0.87 Test set error:0.422 Test set accuracy:0.813\n",
            "\n",
            "Epoch: 53 Training set error:0.350 Training set accuracy:0.865 Test set error:0.421 Test set accuracy:0.801\n",
            "\n",
            "Epoch: 54 Training set error:0.355 Training set accuracy:0.871 Test set error:0.420 Test set accuracy:0.813\n",
            "\n",
            "Epoch: 55 Training set error:0.359 Training set accuracy:0.865 Test set error:0.436 Test set accuracy:0.795\n",
            "\n",
            "Epoch: 56 Training set error:0.358 Training set accuracy:0.859 Test set error:0.425 Test set accuracy:0.804\n",
            "\n",
            "Epoch: 57 Training set error:0.365 Training set accuracy:0.862 Test set error:0.424 Test set accuracy:0.81\n",
            "\n",
            "Epoch: 58 Training set error:0.351 Training set accuracy:0.876 Test set error:0.422 Test set accuracy:0.802\n",
            "\n",
            "Epoch: 59 Training set error:0.361 Training set accuracy:0.868 Test set error:0.426 Test set accuracy:0.804\n",
            "\n",
            "Epoch: 60 Training set error:0.341 Training set accuracy:0.878 Test set error:0.420 Test set accuracy:0.804\n",
            "\n",
            "Epoch: 61 Training set error:0.354 Training set accuracy:0.864 Test set error:0.417 Test set accuracy:0.808\n",
            "\n",
            "Epoch: 62 Training set error:0.338 Training set accuracy:0.887 Test set error:0.412 Test set accuracy:0.806\n",
            "\n",
            "Epoch: 63 Training set error:0.344 Training set accuracy:0.878 Test set error:0.419 Test set accuracy:0.806\n",
            "\n",
            "Epoch: 64 Training set error:0.347 Training set accuracy:0.87 Test set error:0.420 Test set accuracy:0.803\n",
            "\n",
            "Epoch: 65 Training set error:0.340 Training set accuracy:0.88 Test set error:0.414 Test set accuracy:0.811\n",
            "\n",
            "Epoch: 66 Training set error:0.344 Training set accuracy:0.868 Test set error:0.416 Test set accuracy:0.805\n",
            "\n",
            "Epoch: 67 Training set error:0.337 Training set accuracy:0.891 Test set error:0.410 Test set accuracy:0.807\n",
            "\n",
            "Epoch: 68 Training set error:0.344 Training set accuracy:0.882 Test set error:0.412 Test set accuracy:0.803\n",
            "\n",
            "Epoch: 69 Training set error:0.354 Training set accuracy:0.878 Test set error:0.428 Test set accuracy:0.808\n",
            "\n",
            "Epoch: 70 Training set error:0.345 Training set accuracy:0.88 Test set error:0.420 Test set accuracy:0.798\n",
            "\n",
            "Epoch: 71 Training set error:0.349 Training set accuracy:0.883 Test set error:0.417 Test set accuracy:0.802\n",
            "\n",
            "Epoch: 72 Training set error:0.355 Training set accuracy:0.87 Test set error:0.419 Test set accuracy:0.816\n",
            "\n",
            "Epoch: 73 Training set error:0.333 Training set accuracy:0.877 Test set error:0.415 Test set accuracy:0.8\n",
            "\n",
            "Epoch: 74 Training set error:0.355 Training set accuracy:0.883 Test set error:0.416 Test set accuracy:0.806\n",
            "\n",
            "Epoch: 75 Training set error:0.336 Training set accuracy:0.878 Test set error:0.416 Test set accuracy:0.805\n",
            "\n",
            "Epoch: 76 Training set error:0.342 Training set accuracy:0.879 Test set error:0.420 Test set accuracy:0.8\n",
            "\n",
            "Epoch: 77 Training set error:0.341 Training set accuracy:0.878 Test set error:0.418 Test set accuracy:0.801\n",
            "\n",
            "Epoch: 78 Training set error:0.335 Training set accuracy:0.887 Test set error:0.422 Test set accuracy:0.81\n",
            "\n",
            "Epoch: 79 Training set error:0.346 Training set accuracy:0.875 Test set error:0.417 Test set accuracy:0.811\n",
            "\n",
            "Epoch: 80 Training set error:0.358 Training set accuracy:0.88 Test set error:0.428 Test set accuracy:0.805\n",
            "\n",
            "Epoch: 81 Training set error:0.331 Training set accuracy:0.894 Test set error:0.418 Test set accuracy:0.808\n",
            "\n",
            "Epoch: 82 Training set error:0.347 Training set accuracy:0.881 Test set error:0.417 Test set accuracy:0.809\n",
            "\n",
            "Epoch: 83 Training set error:0.353 Training set accuracy:0.875 Test set error:0.425 Test set accuracy:0.809\n",
            "\n",
            "Epoch: 84 Training set error:0.333 Training set accuracy:0.883 Test set error:0.416 Test set accuracy:0.815\n",
            "\n",
            "Epoch: 85 Training set error:0.341 Training set accuracy:0.884 Test set error:0.423 Test set accuracy:0.809\n",
            "\n",
            "Epoch: 86 Training set error:0.343 Training set accuracy:0.885 Test set error:0.427 Test set accuracy:0.803\n",
            "\n",
            "Epoch: 87 Training set error:0.341 Training set accuracy:0.893 Test set error:0.423 Test set accuracy:0.804\n",
            "\n",
            "Epoch: 88 Training set error:0.344 Training set accuracy:0.877 Test set error:0.423 Test set accuracy:0.809\n",
            "\n",
            "Epoch: 89 Training set error:0.334 Training set accuracy:0.888 Test set error:0.411 Test set accuracy:0.806\n",
            "\n",
            "Epoch: 90 Training set error:0.342 Training set accuracy:0.887 Test set error:0.423 Test set accuracy:0.805\n",
            "\n",
            "Epoch: 91 Training set error:0.337 Training set accuracy:0.9 Test set error:0.423 Test set accuracy:0.804\n",
            "\n",
            "Epoch: 92 Training set error:0.342 Training set accuracy:0.888 Test set error:0.425 Test set accuracy:0.795\n",
            "\n",
            "Epoch: 93 Training set error:0.328 Training set accuracy:0.893 Test set error:0.416 Test set accuracy:0.8\n",
            "\n",
            "Epoch: 94 Training set error:0.337 Training set accuracy:0.875 Test set error:0.424 Test set accuracy:0.805\n",
            "\n",
            "Epoch: 95 Training set error:0.322 Training set accuracy:0.892 Test set error:0.423 Test set accuracy:0.799\n",
            "\n",
            "Epoch: 96 Training set error:0.338 Training set accuracy:0.885 Test set error:0.425 Test set accuracy:0.808\n",
            "\n",
            "Epoch: 97 Training set error:0.346 Training set accuracy:0.887 Test set error:0.431 Test set accuracy:0.802\n",
            "\n",
            "Epoch: 98 Training set error:0.340 Training set accuracy:0.891 Test set error:0.430 Test set accuracy:0.799\n",
            "\n",
            "Epoch: 99 Training set error:0.343 Training set accuracy:0.877 Test set error:0.428 Test set accuracy:0.802\n",
            "\n",
            "Epoch: 100 Training set error:0.334 Training set accuracy:0.889 Test set error:0.429 Test set accuracy:0.814\n",
            "\n",
            "Epoch: 101 Training set error:0.333 Training set accuracy:0.882 Test set error:0.423 Test set accuracy:0.797\n",
            "\n",
            "Epoch: 102 Training set error:0.346 Training set accuracy:0.883 Test set error:0.423 Test set accuracy:0.815\n",
            "\n",
            "Epoch: 103 Training set error:0.340 Training set accuracy:0.882 Test set error:0.421 Test set accuracy:0.814\n",
            "\n",
            "Epoch: 104 Training set error:0.339 Training set accuracy:0.889 Test set error:0.426 Test set accuracy:0.809\n",
            "\n",
            "Epoch: 105 Training set error:0.336 Training set accuracy:0.888 Test set error:0.424 Test set accuracy:0.809\n",
            "\n",
            "Epoch: 106 Training set error:0.336 Training set accuracy:0.886 Test set error:0.421 Test set accuracy:0.809\n",
            "\n",
            "Epoch: 107 Training set error:0.329 Training set accuracy:0.896 Test set error:0.424 Test set accuracy:0.811\n",
            "\n",
            "Epoch: 108 Training set error:0.330 Training set accuracy:0.886 Test set error:0.419 Test set accuracy:0.81\n",
            "\n",
            "Epoch: 109 Training set error:0.334 Training set accuracy:0.88 Test set error:0.425 Test set accuracy:0.812\n",
            "\n",
            "Epoch: 110 Training set error:0.323 Training set accuracy:0.901 Test set error:0.413 Test set accuracy:0.813\n",
            "\n",
            "Epoch: 111 Training set error:0.319 Training set accuracy:0.901 Test set error:0.420 Test set accuracy:0.811\n",
            "\n",
            "Epoch: 112 Training set error:0.327 Training set accuracy:0.906 Test set error:0.416 Test set accuracy:0.806\n",
            "\n",
            "Epoch: 113 Training set error:0.317 Training set accuracy:0.901 Test set error:0.409 Test set accuracy:0.816\n",
            "\n",
            "Epoch: 114 Training set error:0.339 Training set accuracy:0.891 Test set error:0.425 Test set accuracy:0.813\n",
            "\n",
            "Epoch: 115 Training set error:0.317 Training set accuracy:0.902 Test set error:0.414 Test set accuracy:0.802\n",
            "\n",
            "Epoch: 116 Training set error:0.325 Training set accuracy:0.897 Test set error:0.416 Test set accuracy:0.815\n",
            "\n",
            "Epoch: 117 Training set error:0.322 Training set accuracy:0.896 Test set error:0.421 Test set accuracy:0.809\n",
            "\n",
            "Epoch: 118 Training set error:0.315 Training set accuracy:0.89 Test set error:0.413 Test set accuracy:0.811\n",
            "\n",
            "Epoch: 119 Training set error:0.323 Training set accuracy:0.894 Test set error:0.413 Test set accuracy:0.816\n",
            "\n",
            "Epoch: 120 Training set error:0.317 Training set accuracy:0.891 Test set error:0.414 Test set accuracy:0.813\n",
            "\n",
            "Epoch: 121 Training set error:0.324 Training set accuracy:0.884 Test set error:0.418 Test set accuracy:0.809\n",
            "\n",
            "Epoch: 122 Training set error:0.325 Training set accuracy:0.888 Test set error:0.414 Test set accuracy:0.82\n",
            "\n",
            "Epoch: 123 Training set error:0.324 Training set accuracy:0.889 Test set error:0.412 Test set accuracy:0.816\n",
            "\n",
            "Epoch: 124 Training set error:0.322 Training set accuracy:0.905 Test set error:0.423 Test set accuracy:0.811\n",
            "\n",
            "Epoch: 125 Training set error:0.336 Training set accuracy:0.902 Test set error:0.423 Test set accuracy:0.817\n",
            "\n",
            "Epoch: 126 Training set error:0.321 Training set accuracy:0.895 Test set error:0.420 Test set accuracy:0.812\n",
            "\n",
            "Epoch: 127 Training set error:0.317 Training set accuracy:0.896 Test set error:0.418 Test set accuracy:0.81\n",
            "\n",
            "Epoch: 128 Training set error:0.315 Training set accuracy:0.899 Test set error:0.419 Test set accuracy:0.813\n",
            "\n",
            "Epoch: 129 Training set error:0.325 Training set accuracy:0.899 Test set error:0.413 Test set accuracy:0.812\n",
            "\n",
            "Epoch: 130 Training set error:0.312 Training set accuracy:0.897 Test set error:0.417 Test set accuracy:0.807\n",
            "\n",
            "Epoch: 131 Training set error:0.317 Training set accuracy:0.898 Test set error:0.407 Test set accuracy:0.799\n",
            "\n",
            "Epoch: 132 Training set error:0.325 Training set accuracy:0.896 Test set error:0.409 Test set accuracy:0.811\n",
            "\n",
            "Epoch: 133 Training set error:0.322 Training set accuracy:0.89 Test set error:0.421 Test set accuracy:0.809\n",
            "\n",
            "Epoch: 134 Training set error:0.327 Training set accuracy:0.889 Test set error:0.420 Test set accuracy:0.795\n",
            "\n",
            "Epoch: 135 Training set error:0.318 Training set accuracy:0.901 Test set error:0.418 Test set accuracy:0.814\n",
            "\n",
            "Epoch: 136 Training set error:0.322 Training set accuracy:0.896 Test set error:0.418 Test set accuracy:0.801\n",
            "\n",
            "Epoch: 137 Training set error:0.314 Training set accuracy:0.906 Test set error:0.418 Test set accuracy:0.806\n",
            "\n",
            "Epoch: 138 Training set error:0.331 Training set accuracy:0.898 Test set error:0.425 Test set accuracy:0.808\n",
            "\n",
            "Epoch: 139 Training set error:0.317 Training set accuracy:0.901 Test set error:0.412 Test set accuracy:0.799\n",
            "\n",
            "Epoch: 140 Training set error:0.317 Training set accuracy:0.901 Test set error:0.418 Test set accuracy:0.809\n",
            "\n",
            "Epoch: 141 Training set error:0.315 Training set accuracy:0.899 Test set error:0.418 Test set accuracy:0.802\n",
            "\n",
            "Epoch: 142 Training set error:0.309 Training set accuracy:0.91 Test set error:0.421 Test set accuracy:0.799\n",
            "\n",
            "Epoch: 143 Training set error:0.316 Training set accuracy:0.908 Test set error:0.420 Test set accuracy:0.805\n",
            "\n",
            "Epoch: 144 Training set error:0.318 Training set accuracy:0.89 Test set error:0.414 Test set accuracy:0.803\n",
            "\n",
            "Epoch: 145 Training set error:0.313 Training set accuracy:0.893 Test set error:0.422 Test set accuracy:0.803\n",
            "\n",
            "Epoch: 146 Training set error:0.331 Training set accuracy:0.898 Test set error:0.424 Test set accuracy:0.792\n",
            "\n",
            "Epoch: 147 Training set error:0.310 Training set accuracy:0.903 Test set error:0.415 Test set accuracy:0.811\n",
            "\n",
            "Epoch: 148 Training set error:0.318 Training set accuracy:0.898 Test set error:0.421 Test set accuracy:0.807\n",
            "\n",
            "Epoch: 149 Training set error:0.303 Training set accuracy:0.898 Test set error:0.416 Test set accuracy:0.807\n",
            "\n",
            "Epoch: 150 Training set error:0.326 Training set accuracy:0.894 Test set error:0.414 Test set accuracy:0.801\n",
            "\n",
            "Epoch: 151 Training set error:0.317 Training set accuracy:0.914 Test set error:0.414 Test set accuracy:0.805\n",
            "\n",
            "Epoch: 152 Training set error:0.306 Training set accuracy:0.912 Test set error:0.410 Test set accuracy:0.807\n",
            "\n",
            "Epoch: 153 Training set error:0.313 Training set accuracy:0.9 Test set error:0.423 Test set accuracy:0.804\n",
            "\n",
            "Epoch: 154 Training set error:0.307 Training set accuracy:0.903 Test set error:0.420 Test set accuracy:0.803\n",
            "\n",
            "Epoch: 155 Training set error:0.320 Training set accuracy:0.91 Test set error:0.418 Test set accuracy:0.813\n",
            "\n",
            "Epoch: 156 Training set error:0.307 Training set accuracy:0.897 Test set error:0.416 Test set accuracy:0.806\n",
            "\n",
            "Epoch: 157 Training set error:0.314 Training set accuracy:0.901 Test set error:0.419 Test set accuracy:0.805\n",
            "\n",
            "Epoch: 158 Training set error:0.304 Training set accuracy:0.907 Test set error:0.424 Test set accuracy:0.796\n",
            "\n",
            "Epoch: 159 Training set error:0.303 Training set accuracy:0.904 Test set error:0.418 Test set accuracy:0.813\n",
            "\n",
            "Epoch: 160 Training set error:0.300 Training set accuracy:0.913 Test set error:0.414 Test set accuracy:0.809\n",
            "\n",
            "Epoch: 161 Training set error:0.307 Training set accuracy:0.9 Test set error:0.421 Test set accuracy:0.807\n",
            "\n",
            "Epoch: 162 Training set error:0.310 Training set accuracy:0.901 Test set error:0.417 Test set accuracy:0.808\n",
            "\n",
            "Epoch: 163 Training set error:0.312 Training set accuracy:0.897 Test set error:0.411 Test set accuracy:0.811\n",
            "\n",
            "Epoch: 164 Training set error:0.313 Training set accuracy:0.91 Test set error:0.420 Test set accuracy:0.814\n",
            "\n",
            "Epoch: 165 Training set error:0.326 Training set accuracy:0.89 Test set error:0.414 Test set accuracy:0.809\n",
            "\n",
            "Epoch: 166 Training set error:0.301 Training set accuracy:0.907 Test set error:0.413 Test set accuracy:0.813\n",
            "\n",
            "Epoch: 167 Training set error:0.313 Training set accuracy:0.9 Test set error:0.408 Test set accuracy:0.819\n",
            "\n",
            "Epoch: 168 Training set error:0.309 Training set accuracy:0.915 Test set error:0.409 Test set accuracy:0.816\n",
            "\n",
            "Epoch: 169 Training set error:0.324 Training set accuracy:0.904 Test set error:0.416 Test set accuracy:0.811\n",
            "\n",
            "Epoch: 170 Training set error:0.309 Training set accuracy:0.922 Test set error:0.416 Test set accuracy:0.81\n",
            "\n",
            "Epoch: 171 Training set error:0.325 Training set accuracy:0.907 Test set error:0.419 Test set accuracy:0.81\n",
            "\n",
            "Epoch: 172 Training set error:0.311 Training set accuracy:0.902 Test set error:0.417 Test set accuracy:0.808\n",
            "\n",
            "Epoch: 173 Training set error:0.306 Training set accuracy:0.905 Test set error:0.420 Test set accuracy:0.805\n",
            "\n",
            "Epoch: 174 Training set error:0.311 Training set accuracy:0.904 Test set error:0.411 Test set accuracy:0.808\n",
            "\n",
            "Epoch: 175 Training set error:0.321 Training set accuracy:0.9 Test set error:0.418 Test set accuracy:0.806\n",
            "\n",
            "Epoch: 176 Training set error:0.304 Training set accuracy:0.905 Test set error:0.413 Test set accuracy:0.812\n",
            "\n",
            "Epoch: 177 Training set error:0.324 Training set accuracy:0.905 Test set error:0.417 Test set accuracy:0.809\n",
            "\n",
            "Epoch: 178 Training set error:0.316 Training set accuracy:0.896 Test set error:0.420 Test set accuracy:0.81\n",
            "\n",
            "Epoch: 179 Training set error:0.301 Training set accuracy:0.907 Test set error:0.414 Test set accuracy:0.814\n",
            "\n",
            "Epoch: 180 Training set error:0.301 Training set accuracy:0.915 Test set error:0.413 Test set accuracy:0.809\n",
            "\n",
            "Epoch: 181 Training set error:0.297 Training set accuracy:0.902 Test set error:0.421 Test set accuracy:0.809\n",
            "\n",
            "Epoch: 182 Training set error:0.308 Training set accuracy:0.904 Test set error:0.415 Test set accuracy:0.806\n",
            "\n",
            "Epoch: 183 Training set error:0.305 Training set accuracy:0.906 Test set error:0.408 Test set accuracy:0.803\n",
            "\n",
            "Epoch: 184 Training set error:0.313 Training set accuracy:0.908 Test set error:0.418 Test set accuracy:0.803\n",
            "\n",
            "Epoch: 185 Training set error:0.300 Training set accuracy:0.906 Test set error:0.412 Test set accuracy:0.811\n",
            "\n",
            "Epoch: 186 Training set error:0.302 Training set accuracy:0.906 Test set error:0.424 Test set accuracy:0.804\n",
            "\n",
            "Epoch: 187 Training set error:0.306 Training set accuracy:0.889 Test set error:0.414 Test set accuracy:0.805\n",
            "\n",
            "Epoch: 188 Training set error:0.310 Training set accuracy:0.911 Test set error:0.418 Test set accuracy:0.79\n",
            "\n",
            "Epoch: 189 Training set error:0.311 Training set accuracy:0.901 Test set error:0.416 Test set accuracy:0.797\n",
            "\n",
            "Epoch: 190 Training set error:0.317 Training set accuracy:0.903 Test set error:0.415 Test set accuracy:0.807\n",
            "\n",
            "Epoch: 191 Training set error:0.297 Training set accuracy:0.911 Test set error:0.422 Test set accuracy:0.815\n",
            "\n",
            "Epoch: 192 Training set error:0.303 Training set accuracy:0.903 Test set error:0.418 Test set accuracy:0.798\n",
            "\n",
            "Epoch: 193 Training set error:0.304 Training set accuracy:0.915 Test set error:0.410 Test set accuracy:0.801\n",
            "\n",
            "Epoch: 194 Training set error:0.318 Training set accuracy:0.907 Test set error:0.415 Test set accuracy:0.804\n",
            "\n",
            "Epoch: 195 Training set error:0.312 Training set accuracy:0.908 Test set error:0.417 Test set accuracy:0.807\n",
            "\n",
            "Epoch: 196 Training set error:0.312 Training set accuracy:0.91 Test set error:0.413 Test set accuracy:0.804\n",
            "\n",
            "Epoch: 197 Training set error:0.306 Training set accuracy:0.915 Test set error:0.424 Test set accuracy:0.808\n",
            "\n",
            "Epoch: 198 Training set error:0.318 Training set accuracy:0.904 Test set error:0.416 Test set accuracy:0.806\n",
            "\n",
            "Epoch: 199 Training set error:0.312 Training set accuracy:0.899 Test set error:0.416 Test set accuracy:0.801\n"
          ]
        }
      ]
    },
    {
      "cell_type": "code",
      "source": [
        "(test_images.reshape(1000, 784)).shape, weights_1.shape, weights_2.shape"
      ],
      "metadata": {
        "colab": {
          "base_uri": "https://localhost:8080/"
        },
        "id": "kUGP2e27tszL",
        "outputId": "8694d723-3efa-43f0-cf0e-0214d60903d6"
      },
      "execution_count": 74,
      "outputs": [
        {
          "output_type": "execute_result",
          "data": {
            "text/plain": [
              "((1000, 784), (784, 100), (100, 10))"
            ]
          },
          "metadata": {},
          "execution_count": 74
        }
      ]
    },
    {
      "cell_type": "code",
      "source": [
        "result = relu(test_images.reshape(1000,784) @ weights_1) @ weights_2"
      ],
      "metadata": {
        "id": "FIizZco7uqqM"
      },
      "execution_count": 75,
      "outputs": []
    },
    {
      "cell_type": "code",
      "source": [
        "# The training set metrics.\n",
        "y_training_error = [\n",
        "    store_training_loss[i] / float(len(training_images))\n",
        "    for i in range(len(store_training_loss))\n",
        "]\n",
        "x_training_error = range(1, len(store_training_loss) + 1)\n",
        "y_training_accuracy = [\n",
        "    store_training_accurate_pred[i] / float(len(training_images))\n",
        "    for i in range(len(store_training_accurate_pred))\n",
        "]\n",
        "x_training_accuracy = range(1, len(store_training_accurate_pred) + 1)\n",
        "\n",
        "# The test set metrics.\n",
        "y_test_error = [\n",
        "    store_test_loss[i] / float(len(test_images)) for i in range(len(store_test_loss))\n",
        "]\n",
        "x_test_error = range(1, len(store_test_loss) + 1)\n",
        "y_test_accuracy = [\n",
        "    store_training_accurate_pred[i] / float(len(training_images))\n",
        "    for i in range(len(store_training_accurate_pred))\n",
        "]\n",
        "x_test_accuracy = range(1, len(store_test_accurate_pred) + 1)\n",
        "\n",
        "# Display the plots.\n",
        "fig, axes = plt.subplots(nrows=1, ncols=2, figsize=(15, 5))\n",
        "axes[0].set_title(\"Training set error, accuracy\")\n",
        "axes[0].plot(x_training_accuracy, y_training_accuracy, label=\"Training set accuracy\")\n",
        "axes[0].plot(x_training_error, y_training_error, label=\"Training set error\")\n",
        "axes[0].set_xlabel(\"Epochs\")\n",
        "axes[1].set_title(\"Test set error, accuracy\")\n",
        "axes[1].plot(x_test_accuracy, y_test_accuracy, label=\"Test set accuracy\")\n",
        "axes[1].plot(x_test_error, y_test_error, label=\"Test set error\")\n",
        "axes[1].set_xlabel(\"Epochs\")\n",
        "plt.show()"
      ],
      "metadata": {
        "colab": {
          "base_uri": "https://localhost:8080/",
          "height": 311
        },
        "id": "D1sxzYqfsm8E",
        "outputId": "268919bd-6405-46fa-8e35-e23a235d8dbb"
      },
      "execution_count": 80,
      "outputs": [
        {
          "output_type": "display_data",
          "data": {
            "text/plain": [
              "<Figure size 1080x360 with 2 Axes>"
            ],
            "image/png": "[encoded data removed]"
          },
          "metadata": {
            "needs_background": "light"
          }
        }
      ]
    },
    {
      "cell_type": "code",
      "source": [
        ""
      ],
      "metadata": {
        "id": "z-L33ZD-vMLP"
      },
      "execution_count": null,
      "outputs": []
    }
  ],
  "metadata": {
    "colab": {
      "name": "MNIST ",
      "provenance": [],
      "authorship_tag": "ABX9TyPu/piAkxv6Ndk9p4as3/7J",
      "include_colab_link": true
    },
    "kernelspec": {
      "display_name": "Python 3",
      "name": "python3"
    },
    "language_info": {
      "name": "python"
    }
  },
  "nbformat": 4,
  "nbformat_minor": 0
}